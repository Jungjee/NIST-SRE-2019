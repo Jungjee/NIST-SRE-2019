{
 "cells": [
  {
   "cell_type": "markdown",
   "metadata": {},
   "source": [
    "# Calibration and Fusion\n",
    "\n",
    "Python script from https://gitlab.eurecom.fr/nautsch/pybosaris/tree/master. Python implementation of BOSARIS toolkit https://sites.google.com/site/bosaristoolkit/. The script is based on `linear_calibrate_scores.m`, `train_linear_calibration.m` and `train_binary_classifier.m` from the BOSARIS Matlab toolkit.\n",
    "\n",
    "**Ressources**\n",
    "\n",
    "* [The BOSARIS Toolkit: Theory, Algorithms and\n",
    "Code for Surviving the New DCF](https://arxiv.org/pdf/1304.2865.pdf)\n",
    "* [The BOSARIS Toolkit User Guide: Theory, Algorithms and Code for Binary Classifier Score Processing](https://docs.google.com/viewer?a=v&pid=sites&srcid=ZGVmYXVsdGRvbWFpbnxib3NhcmlzdG9vbGtpdHxneDozOTEwZjAzZmM3ZThmNjE0)"
   ]
  },
  {
   "cell_type": "code",
   "execution_count": 1,
   "metadata": {},
   "outputs": [],
   "source": [
    "from unittest import TestCase\n",
    "import os\n",
    "import sys\n",
    "lib_path = os.path.join(os.path.dirname('.'), \"pybosaris-master\")\n",
    "sys.path.append(lib_path)\n",
    "from pybosaris.calibration.linear_fuser import LinearFuser\n",
    "from pybosaris.calibration.objectives import evaluate_objective\n",
    "from pybosaris.calibration.training import train_binary_classifier\n",
    "from pybosaris.libperformance import cllr, min_cllr\n",
    "from operator import itemgetter\n",
    "from sklearn.metrics import roc_curve\n",
    "from scipy.optimize import brentq\n",
    "from scipy.interpolate import interp1d\n",
    "import numpy as np\n",
    "import pandas as pd\n",
    "import logging\n",
    "import matplotlib.pyplot as plt\n",
    "import matplotlib as mpl\n",
    "mpl.rcParams['figure.dpi']= 300\n",
    "%matplotlib inline"
   ]
  },
  {
   "cell_type": "markdown",
   "metadata": {},
   "source": [
    "## 1. Preprocess training data"
   ]
  },
  {
   "cell_type": "code",
   "execution_count": 2,
   "metadata": {},
   "outputs": [],
   "source": [
    "# Split data in target and non-target trials\n",
    "scores = pd.read_pickle('snorm.pkl')\n",
    "tar = np.array(scores[scores.label == 1]['normalized_score'])\n",
    "non = np.array(scores[scores.label == 0]['normalized_score'])\n",
    "\n",
    "# Instantiate a LinearFuser\n",
    "# Function handle for function that must be trained\n",
    "# Get a starting point for the calibration weights: 'w0',\n",
    "# which are zeros by default\n",
    "train_scores = np.hstack((tar, non))\n",
    "fuser = LinearFuser(scores=train_scores)\n",
    "\n",
    "# Create label vector\n",
    "# Let the trainer know which scores are target scores and which are non-target scores. \n",
    "ntar = tar.shape[0]\n",
    "nnon = non.shape[0]\n",
    "classf = np.hstack((np.ones(ntar), -np.ones(nnon)))"
   ]
  },
  {
   "cell_type": "markdown",
   "metadata": {},
   "source": [
    "## 2. Train linear classifier\n",
    "\n",
    "Do the training to get the calibration weights 'w'"
   ]
  },
  {
   "cell_type": "code",
   "execution_count": 3,
   "metadata": {},
   "outputs": [
    {
     "name": "stderr",
     "output_type": "stream",
     "text": [
      "2019-10-07 14:56:22.042 INFO     TR 0 (initial state): obj = 1, Delta = 0.647677\n",
      "2019-10-07 14:56:22.138 INFO     CG 0: curv=0.07444935268185317, terminate on trust region boundary, model=0.03664747403944974\n",
      "2019-10-07 14:56:22.161 INFO     expanding: Delta=1.29535\n",
      "2019-10-07 14:56:22.161 INFO     TR 1: obj=0.963359; rho=0.999814\n",
      "2019-10-07 14:56:22.238 INFO     CG 0: curv=0.07748602275021839, terminate on trust region boundary, model=0.14889439128035864\n",
      "2019-10-07 14:56:22.259 INFO     expanding: Delta=2.59071\n",
      "2019-10-07 14:56:22.260 INFO     TR 2: obj=0.815314; rho=0.994299\n",
      "2019-10-07 14:56:22.338 INFO     CG 0: curv=0.101449, radius = 0.740379, residual=2.90786, model=0.555754\n",
      "2019-10-07 14:56:22.420 INFO     CG 1: curv=0.00428085, converged inside trust region; radius = 0.967355, residual=2.58922e-15, model=0.649921\n",
      "2019-10-07 14:56:22.461 INFO     contracting: Delta=0.647677\n",
      "2019-10-07 14:56:22.462 INFO     TR 3: obj=0.815314; backtracking; rho=-0.991775\n",
      "2019-10-07 14:56:22.463 INFO     CG 0: curv=-2.72842e-17, jump to trust region boundary\n",
      "2019-10-07 14:56:22.489 INFO     contracting: Delta=0.161919\n",
      "2019-10-07 14:56:22.490 INFO     TR 3: obj=0.815314; backtracking; rho=-1.62419e-15\n",
      "2019-10-07 14:56:22.572 INFO     CG 0: curv=7.48643e-33, radius = 2.78649e-15, residual=1.63668, model=3.38482e-32\n",
      "2019-10-07 14:56:22.643 INFO     CG 1: curv=8.2597E-35, converged inside trust region; radius = 3.16756e-15, residual=4.06235e-15, model=3.60496e-32\n",
      "2019-10-07 14:56:22.662 INFO     contracting: Delta=0.0404798\n",
      "2019-10-07 14:56:22.663 INFO     TR 3: obj=0.815314; backtracking; rho=-9.23912e+15\n",
      "2019-10-07 14:56:22.664 INFO     CG 0: curv=-3.08144e-48, jump to trust region boundary\n",
      "2019-10-07 14:56:22.683 INFO     contracting: Delta=0.01012\n",
      "2019-10-07 14:56:22.684 INFO     TR 3: obj=0.815314; backtracking; rho=3.1541e-14\n",
      "2019-10-07 14:56:22.765 INFO     CG 0: curv=1.28387E-63, converged inside trust region; radius = 1.74286e-29, residual=0.549227, model=5.37525e-63\n",
      "2019-10-07 14:56:22.783 INFO     contracting: Delta=0.00252999\n",
      "2019-10-07 14:56:22.783 INFO     TR 3: obj=0.815314; backtracking; rho=-0\n",
      "2019-10-07 14:56:22.860 INFO     CG 0: curv=1.48876e-66, radius = 9.96039e-30, residual=1.42874, model=4.21798e-65\n",
      "2019-10-07 14:56:22.938 INFO     CG 1: curv=7.84354E-68, converged inside trust region; radius = 1.00543e-29, residual=9.91561e-16, model=4.25135e-65\n",
      "2019-10-07 14:56:22.955 INFO     contracting: Delta=0.000632497\n",
      "2019-10-07 14:56:22.956 INFO     TR 3: obj=0.815314; backtracking; rho=-0\n",
      "2019-10-07 14:56:22.957 INFO     CG 0: curv=1.32239e-82, radius = 4.37281e-61, residual=5.21142, model=4.59038e-113\n",
      "2019-10-07 14:56:23.043 INFO     CG 1: curv=1.27858e-98, radius = 7.21829e-46, residual=3.06875, model=3.50191e-98\n",
      "2019-10-07 14:56:23.116 INFO     CG 2: curv=2.35347e-99, radius = 1.3886e-45, residual=2.84393, model=5.78932e-98\n",
      "2019-10-07 14:56:23.268 INFO     CG 3: curv=3.19719e-99, radius = 1.72442e-45, residual=1.23936, model=7.0313e-98\n",
      "2019-10-07 14:56:23.451 INFO     CG 4: curv=8.16598E-100, converged inside trust region; radius = 1.68987e-45, residual=0.546919, model=7.20669e-98\n",
      "2019-10-07 14:56:23.475 INFO     contracting: Delta=0.000158124\n",
      "2019-10-07 14:56:23.476 INFO     TR 3: obj=0.815314; backtracking; rho=-0\n",
      "2019-10-07 14:56:23.478 INFO     CG 0: curv=7.40758e-84, radius = 5.10825e-63, residual=4.60603, model=7.33202e-117\n",
      "2019-10-07 14:56:23.581 INFO     CG 1: curv=2.8479e-101, radius = 1.42949e-46, residual=1.32924, model=8.58382e-101\n",
      "2019-10-07 14:56:23.660 INFO     CG 2: curv=1.20451e-102, radius = 1.82016e-46, residual=1.04358, model=9.9915e-101\n",
      "2019-10-07 14:56:23.746 INFO     CG 3: curv=9.3826E-103, converged inside trust region; radius = 1.82435e-46, residual=0.308754, model=1.0678e-100\n",
      "2019-10-07 14:56:23.770 INFO     contracting: Delta=3.95311e-05\n",
      "2019-10-07 14:56:23.771 INFO     TR 3: obj=0.815314; backtracking; rho=-0\n",
      "2019-10-07 14:56:23.774 INFO     CG 0: curv=1.36749e-85, radius = 3.25779e-65, residual=15.4618, model=3.60933e-121\n",
      "2019-10-07 14:56:23.876 INFO     CG 1: curv=8.55756e-103, radius = 3.54344e-47, residual=14.1828, model=3.29645e-103\n",
      "2019-10-07 14:56:23.961 INFO     CG 2: curv=5.93348e-103, radius = 7.47494e-47, residual=15.4054, model=6.66227e-103\n",
      "2019-10-07 14:56:24.050 INFO     CG 3: curv=6.57741e-103, radius = 1.25515e-46, residual=16.9273, model=1.08889e-102\n",
      "2019-10-07 14:56:24.127 INFO     CG 4: curv=9.08726e-103, radius = 1.79381e-46, residual=15.7762, model=1.53482e-102\n",
      "2019-10-07 14:56:24.202 INFO     CG 5: curv=9.58319e-103, radius = 2.15558e-46, residual=12.1121, model=1.85387e-102\n",
      "2019-10-07 14:56:24.291 INFO     CG 6: curv=6.23001e-103, radius = 2.29961e-46, residual=8.68821, model=2.02437e-102\n",
      "2019-10-07 14:56:24.377 INFO     CG 7: curv=3.06782e-103, radius = 2.31197e-46, residual=6.85189, model=2.11605e-102\n",
      "2019-10-07 14:56:24.480 INFO     CG 8: curv=1.61155e-103, radius = 2.24294e-46, residual=6.55377, model=2.18355e-102\n",
      "2019-10-07 14:56:24.563 INFO     CG 9: curv=1.23046e-103, radius = 2.08265e-46, residual=7.25293, model=2.25756e-102\n",
      "2019-10-07 14:56:24.645 INFO     CG 10: curv=1.47844e-103, radius = 1.8143e-46, residual=7.791, model=2.34994e-102\n",
      "2019-10-07 14:56:24.720 INFO     CG 11: curv=2.00787e-103, radius = 1.51852e-46, residual=6.94502, model=2.44051e-102\n",
      "2019-10-07 14:56:24.799 INFO     CG 12: curv=1.9162e-103, radius = 1.32777e-46, residual=5.18713, model=2.50044e-102\n",
      "2019-10-07 14:56:24.898 INFO     CG 13: curv=1.14575e-103, radius = 1.25853e-46, residual=3.74724, model=2.53162e-102\n",
      "2019-10-07 14:56:24.984 INFO     CG 14: curv=5.55658e-104, radius = 1.2602e-46, residual=3.06365, model=2.54914e-102\n",
      "2019-10-07 14:56:25.060 INFO     CG 15: curv=3.08683e-104, radius = 1.30656e-46, residual=3.04926, model=2.56322e-102\n",
      "2019-10-07 14:56:25.146 INFO     CG 16: curv=2.60684e-104, radius = 1.40066e-46, residual=3.41012, model=2.57959e-102\n",
      "2019-10-07 14:56:25.225 INFO     CG 17: curv=3.34321e-104, radius = 1.53549e-46, residual=3.5545, model=2.59956e-102\n",
      "2019-10-07 14:56:25.307 INFO     CG 18: curv=4.362e-104, radius = 1.65709e-46, residual=3.03244, model=2.61762e-102\n",
      "2019-10-07 14:56:25.386 INFO     CG 19: curv=3.74915e-104, radius = 1.72195e-46, residual=2.21819, model=2.62875e-102\n",
      "2019-10-07 14:56:25.496 INFO     CG 20: curv=2.08775e-104, radius = 1.74122e-46, residual=1.62536, model=2.63448e-102\n",
      "2019-10-07 14:56:25.573 INFO     CG 21: curv=1.01251e-104, radius = 1.73604e-46, residual=1.38241, model=2.63788e-102\n",
      "2019-10-07 14:56:25.655 INFO     CG 22: curv=6.02722e-105, radius = 1.71269e-46, residual=1.42654, model=2.64087e-102\n",
      "2019-10-07 14:56:25.725 INFO     CG 23: curv=5.63335e-105, radius = 1.66692e-46, residual=1.59812, model=2.6445e-102\n",
      "2019-10-07 14:56:25.792 INFO     CG 24: curv=7.56736e-105, radius = 1.60345e-46, residual=1.60644, model=2.64875e-102\n",
      "2019-10-07 14:56:25.861 INFO     CG 25: curv=9.28863e-105, radius = 1.54995e-46, residual=1.31476, model=2.65229e-102\n",
      "2019-10-07 14:56:25.929 INFO     CG 26: curv=7.19057E-105, converged inside trust region; radius = 1.52377e-46, residual=0.948679, model=2.65434e-102\n",
      "2019-10-07 14:56:25.947 INFO     contracting: Delta=9.88277e-06\n",
      "2019-10-07 14:56:25.948 INFO     TR 3: obj=0.815314; backtracking; rho=-0\n",
      "2019-10-07 14:56:25.948 INFO     CG 0: curv=-9.37507e-87, jump to trust region boundary\n",
      "2019-10-07 14:56:25.969 INFO     contracting: Delta=2.47069e-06\n",
      "2019-10-07 14:56:25.970 INFO     TR 3: obj=0.815314; backtracking; rho=-3.4926e-14\n",
      "2019-10-07 14:56:26.045 INFO     CG 0: curv=7.67806e-106, radius = 7.92635e-47, residual=3.79693, model=5.20687e-105\n",
      "2019-10-07 14:56:26.116 INFO     CG 1: curv=6.8382E-107, converged inside trust region; radius = 1.09227e-46, residual=9.74836e-16, model=6.42198e-105\n",
      "2019-10-07 14:56:26.136 INFO     contracting: Delta=6.17673e-07\n",
      "2019-10-07 14:56:26.137 INFO     TR 3: obj=0.815314; backtracking; rho=-0\n",
      "2019-10-07 14:56:26.138 INFO     CG 0: curv=0, jump to trust region boundary\n",
      "2019-10-07 14:56:26.156 INFO     expanding: Delta=1.23535e-06\n",
      "2019-10-07 14:56:26.157 INFO     TR 3: obj=0.815314; rho=1.0119e+68\n",
      "2019-10-07 14:56:26.237 INFO     CG 0: curv=0.10144930681672917, terminate on trust region boundary, model=2.304822999121586e-13\n",
      "2019-10-07 14:56:26.254 INFO     expanding: Delta=2.47069e-06\n",
      "2019-10-07 14:56:26.255 INFO     TR 4: obj=0.815314; rho=0.998073\n",
      "2019-10-07 14:56:26.334 INFO     CG 0: curv=0.10144930681678273, terminate on trust region boundary, model=9.221512442532725e-13\n",
      "2019-10-07 14:56:26.352 INFO     expanding: Delta=4.94138e-06\n",
      "2019-10-07 14:56:26.359 INFO     TR 5: obj=0.815314; rho=1.00072\n",
      "2019-10-07 14:56:26.457 INFO     CG 0: curv=0.10144930681699593, terminate on trust region boundary, model=3.6883829324035744e-12\n",
      "2019-10-07 14:56:26.473 INFO     expanding: Delta=9.88277e-06\n",
      "2019-10-07 14:56:26.474 INFO     TR 6: obj=0.815314; rho=0.99997\n",
      "2019-10-07 14:56:26.557 INFO     CG 0: curv=0.10144930681784908, terminate on trust region boundary, model=1.4753531729540866e-11\n",
      "2019-10-07 14:56:26.573 INFO     expanding: Delta=1.97655e-05\n",
      "2019-10-07 14:56:26.574 INFO     TR 7: obj=0.815314; rho=0.99997\n",
      "2019-10-07 14:56:26.659 INFO     CG 0: curv=0.10144930682126294, terminate on trust region boundary, model=5.901412691698847e-11\n",
      "2019-10-07 14:56:26.678 INFO     expanding: Delta=3.95311e-05\n",
      "2019-10-07 14:56:26.679 INFO     TR 8: obj=0.815314; rho=1.00001\n",
      "2019-10-07 14:56:26.759 INFO     CG 0: curv=0.10144930683491447, terminate on trust region boundary, model=2.3605650764915417e-10\n",
      "2019-10-07 14:56:26.778 INFO     expanding: Delta=7.90622e-05\n",
      "2019-10-07 14:56:26.778 INFO     TR 9: obj=0.815314; rho=0.999998\n",
      "2019-10-07 14:56:26.857 INFO     CG 0: curv=0.1014493068895247, terminate on trust region boundary, model=9.442255862066123e-10\n",
      "2019-10-07 14:56:26.873 INFO     expanding: Delta=0.000158124\n",
      "2019-10-07 14:56:26.874 INFO     TR 10: obj=0.815314; rho=1\n",
      "2019-10-07 14:56:26.959 INFO     CG 0: curv=0.1014493071079643, terminate on trust region boundary, model=3.776902340013727e-09\n",
      "2019-10-07 14:56:26.975 INFO     expanding: Delta=0.000316249\n",
      "2019-10-07 14:56:26.975 INFO     TR 11: obj=0.815314; rho=1\n",
      "2019-10-07 14:56:27.062 INFO     CG 0: curv=0.1014493079817214, terminate on trust region boundary, model=1.510760950509598e-08\n",
      "2019-10-07 14:56:27.081 INFO     expanding: Delta=0.000632497\n",
      "2019-10-07 14:56:27.082 INFO     TR 12: obj=0.815314; rho=1\n",
      "2019-10-07 14:56:27.172 INFO     CG 0: curv=0.1014493114767518, terminate on trust region boundary, model=6.043043989695157e-08\n",
      "2019-10-07 14:56:27.191 INFO     expanding: Delta=0.00126499\n",
      "2019-10-07 14:56:27.192 INFO     TR 13: obj=0.815313; rho=1\n",
      "2019-10-07 14:56:27.276 INFO     CG 0: curv=0.10144932545687403, terminate on trust region boundary, model=2.4172177939882013e-07\n",
      "2019-10-07 14:56:27.293 INFO     expanding: Delta=0.00252999\n",
      "2019-10-07 14:56:27.294 INFO     TR 14: obj=0.815313; rho=1\n",
      "2019-10-07 14:56:27.376 INFO     CG 0: curv=0.10144938137739913, terminate on trust region boundary, model=9.668874405656246e-07\n",
      "2019-10-07 14:56:27.398 INFO     expanding: Delta=0.00505998\n",
      "2019-10-07 14:56:27.399 INFO     TR 15: obj=0.815312; rho=1\n",
      "2019-10-07 14:56:27.486 INFO     CG 0: curv=0.1014496050601026, terminate on trust region boundary, model=3.867554924611818e-06\n",
      "2019-10-07 14:56:27.508 INFO     expanding: Delta=0.01012\n",
      "2019-10-07 14:56:27.509 INFO     TR 16: obj=0.815308; rho=1\n",
      "2019-10-07 14:56:27.590 INFO     CG 0: curv=0.10145049980050305, terminate on trust region boundary, model=1.5470302302712013e-05\n",
      "2019-10-07 14:56:27.610 INFO     expanding: Delta=0.0202399\n",
      "2019-10-07 14:56:27.610 INFO     TR 17: obj=0.815293; rho=1\n",
      "2019-10-07 14:56:27.694 INFO     CG 0: curv=0.10145407891550356, terminate on trust region boundary, model=6.18825306141741e-05\n",
      "2019-10-07 14:56:27.715 INFO     expanding: Delta=0.0404798\n",
      "2019-10-07 14:56:27.716 INFO     TR 18: obj=0.815231; rho=1\n",
      "2019-10-07 14:56:27.807 INFO     CG 0: curv=0.10146839782943098, terminate on trust region boundary, model=0.0002475512482976269\n",
      "2019-10-07 14:56:27.828 INFO     expanding: Delta=0.0809596\n",
      "2019-10-07 14:56:27.829 INFO     TR 19: obj=0.814984; rho=1\n",
      "2019-10-07 14:56:27.920 INFO     CG 0: curv=0.10152571271773057, terminate on trust region boundary, model=0.0009905419399058916\n",
      "2019-10-07 14:56:27.941 INFO     expanding: Delta=0.161919\n",
      "2019-10-07 14:56:27.941 INFO     TR 20: obj=0.813993; rho=0.999999\n",
      "2019-10-07 14:56:28.024 INFO     CG 0: curv=0.10175559802749035, terminate on trust region boundary, model=0.003967489661340129\n",
      "2019-10-07 14:56:28.043 INFO     expanding: Delta=0.323839\n",
      "2019-10-07 14:56:28.044 INFO     TR 21: obj=0.810026; rho=0.99999\n",
      "2019-10-07 14:56:28.140 INFO     CG 0: curv=0.10268501699070597, terminate on trust region boundary, model=0.015950422218067407\n",
      "2019-10-07 14:56:28.161 INFO     expanding: Delta=0.647677\n",
      "2019-10-07 14:56:28.162 INFO     TR 22: obj=0.794078; rho=0.999821\n",
      "2019-10-07 14:56:28.247 INFO     CG 0: curv=0.10654967536181281, terminate on trust region boundary, model=0.06471802647727866\n",
      "2019-10-07 14:56:28.264 INFO     expanding: Delta=1.29535\n",
      "2019-10-07 14:56:28.265 INFO     TR 23: obj=0.729625; rho=0.995901\n",
      "2019-10-07 14:56:28.344 INFO     CG 0: curv=0.122699, radius = 0.894681, residual=3.45219, model=0.302454\n",
      "2019-10-07 14:56:28.412 INFO     CG 1: curv=0.004915513133448595, terminate on trust region boundary, model=0.3186912709256129\n",
      "2019-10-07 14:56:28.433 INFO     contracting: Delta=0.323839\n",
      "2019-10-07 14:56:28.434 INFO     TR 24: obj=0.729625; backtracking; rho=-0.297575\n",
      "2019-10-07 14:56:28.434 INFO     CG 0: curv=-0.0146228, jump to trust region boundary\n",
      "2019-10-07 14:56:28.456 INFO     contracting: Delta=0.0809596\n",
      "2019-10-07 14:56:28.457 INFO     TR 24: obj=0.729625; backtracking; rho=-0.117714\n",
      "2019-10-07 14:56:28.531 INFO     CG 0: curv=0.006658208343678402, terminate on trust region boundary, model=0.0006692211273653015\n",
      "2019-10-07 14:56:28.549 INFO     contracting: Delta=0.0202399\n",
      "2019-10-07 14:56:28.549 INFO     TR 24: obj=0.729625; backtracking; rho=-0.00211969\n",
      "2019-10-07 14:56:28.625 INFO     CG 0: curv=0.006658208343678402, terminate on trust region boundary, model=4.1992724444226024e-05\n",
      "2019-10-07 14:56:28.645 INFO     contracting: Delta=0.00505998\n",
      "2019-10-07 14:56:28.646 INFO     TR 24: obj=0.729625; backtracking; rho=-0.000132639\n",
      "2019-10-07 14:56:28.719 INFO     CG 0: curv=0.006658208343678402, terminate on trust region boundary, model=2.625198038576877e-06\n",
      "2019-10-07 14:56:28.740 INFO     contracting: Delta=0.00126499\n",
      "2019-10-07 14:56:28.741 INFO     TR 24: obj=0.729625; backtracking; rho=-8.29035e-06\n",
      "2019-10-07 14:56:28.815 INFO     CG 0: curv=0.006658208343678402, terminate on trust region boundary, model=1.6407742791868773e-07\n",
      "2019-10-07 14:56:28.836 INFO     contracting: Delta=0.000316249\n",
      "2019-10-07 14:56:28.837 INFO     TR 24: obj=0.729625; backtracking; rho=-5.19664e-07\n",
      "2019-10-07 14:56:28.912 INFO     CG 0: curv=0.006658208343678402, terminate on trust region boundary, model=1.0254849192999367e-08\n",
      "2019-10-07 14:56:28.930 INFO     contracting: Delta=7.90622e-05\n",
      "2019-10-07 14:56:28.930 INFO     TR 24: obj=0.729625; backtracking; rho=-4.33053e-08\n",
      "2019-10-07 14:56:29.004 INFO     CG 0: curv=0.006658208343678402, terminate on trust region boundary, model=6.409281148384124e-10\n",
      "2019-10-07 14:56:29.024 INFO     contracting: Delta=1.97655e-05\n",
      "2019-10-07 14:56:29.025 INFO     TR 24: obj=0.729625; backtracking; rho=5.19663e-07\n",
      "2019-10-07 14:56:29.105 INFO     CG 0: curv=0.006658208343678402, terminate on trust region boundary, model=4.005801245758398e-11\n",
      "2019-10-07 14:56:29.124 INFO     contracting: Delta=4.94138e-06\n",
      "2019-10-07 14:56:29.125 INFO     TR 24: obj=0.729625; backtracking; rho=2.77154e-06\n",
      "2019-10-07 14:56:29.209 INFO     CG 0: curv=0.006658208343678402, terminate on trust region boundary, model=2.5036084316611643e-12\n",
      "2019-10-07 14:56:29.228 INFO     contracting: Delta=1.23535e-06\n",
      "2019-10-07 14:56:29.229 INFO     TR 24: obj=0.729625; rho=0.000221725\n",
      "2019-10-07 14:56:29.322 INFO     CG 0: curv=0.12269895097519465, terminate on trust region boundary, model=3.4361402612138836e-13\n",
      "2019-10-07 14:56:29.342 INFO     expanding: Delta=2.47069e-06\n",
      "2019-10-07 14:56:29.343 INFO     TR 25: obj=0.729625; rho=0.998061\n",
      "2019-10-07 14:56:29.445 INFO     CG 0: curv=0.12269895097527113, terminate on trust region boundary, model=1.3746781490893066e-12\n",
      "2019-10-07 14:56:29.462 INFO     expanding: Delta=4.94138e-06\n",
      "2019-10-07 14:56:29.463 INFO     TR 26: obj=0.729625; rho=1.00032\n",
      "2019-10-07 14:56:29.545 INFO     CG 0: curv=0.12269895097557723, terminate on trust region boundary, model=5.49849055173356e-12\n",
      "2019-10-07 14:56:29.563 INFO     expanding: Delta=9.88277e-06\n",
      "2019-10-07 14:56:29.564 INFO     TR 27: obj=0.729625; rho=1\n",
      "2019-10-07 14:56:29.650 INFO     CG 0: curv=0.1226989509768035, terminate on trust region boundary, model=2.1993962206634356e-11\n",
      "2019-10-07 14:56:29.670 INFO     expanding: Delta=1.97655e-05\n",
      "2019-10-07 14:56:29.670 INFO     TR 28: obj=0.729625; rho=1.00004\n",
      "2019-10-07 14:56:29.762 INFO     CG 0: curv=0.12269895098170445, terminate on trust region boundary, model=8.797573779943689e-11\n",
      "2019-10-07 14:56:29.781 INFO     expanding: Delta=3.95311e-05\n",
      "2019-10-07 14:56:29.781 INFO     TR 29: obj=0.729625; rho=0.999995\n",
      "2019-10-07 14:56:29.861 INFO     CG 0: curv=0.12269895100130859, terminate on trust region boundary, model=3.5190306214328057e-10\n",
      "2019-10-07 14:56:29.878 INFO     expanding: Delta=7.90622e-05\n",
      "2019-10-07 14:56:29.879 INFO     TR 30: obj=0.729625; rho=1\n",
      "2019-10-07 14:56:29.977 INFO     CG 0: curv=0.12269895107972688, terminate on trust region boundary, model=1.4076123583671143e-09\n",
      "2019-10-07 14:56:29.995 INFO     expanding: Delta=0.000158124\n",
      "2019-10-07 14:56:29.996 INFO     TR 31: obj=0.729625; rho=1\n",
      "2019-10-07 14:56:30.085 INFO     CG 0: curv=0.12269895139339931, terminate on trust region boundary, model=5.6304496358600936e-09\n",
      "2019-10-07 14:56:30.109 INFO     expanding: Delta=0.000316249\n",
      "2019-10-07 14:56:30.110 INFO     TR 32: obj=0.729625; rho=1\n",
      "2019-10-07 14:56:30.201 INFO     CG 0: curv=0.12269895264808985, terminate on trust region boundary, model=2.252179856205975e-08\n",
      "2019-10-07 14:56:30.222 INFO     expanding: Delta=0.000632497\n",
      "2019-10-07 14:56:30.223 INFO     TR 33: obj=0.729625; rho=1\n",
      "2019-10-07 14:56:30.305 INFO     CG 0: curv=0.12269895766685157, terminate on trust region boundary, model=9.008719465716937e-08\n",
      "2019-10-07 14:56:30.327 INFO     expanding: Delta=0.00126499\n",
      "2019-10-07 14:56:30.328 INFO     TR 34: obj=0.729625; rho=1\n",
      "2019-10-07 14:56:30.430 INFO     CG 0: curv=0.12269897774188732, terminate on trust region boundary, model=3.60348784061216e-07\n",
      "2019-10-07 14:56:30.452 INFO     expanding: Delta=0.00252999\n",
      "2019-10-07 14:56:30.453 INFO     TR 35: obj=0.729625; rho=1\n",
      "2019-10-07 14:56:30.544 INFO     CG 0: curv=0.12269905804186733, terminate on trust region boundary, model=1.4413952210480992e-06\n",
      "2019-10-07 14:56:30.564 INFO     expanding: Delta=0.00505998\n",
      "2019-10-07 14:56:30.565 INFO     TR 36: obj=0.729623; rho=1\n",
      "2019-10-07 14:56:30.648 INFO     CG 0: curv=0.12269937923913395, terminate on trust region boundary, model=5.765582237759406e-06\n",
      "2019-10-07 14:56:30.667 INFO     expanding: Delta=0.01012\n",
      "2019-10-07 14:56:30.667 INFO     TR 37: obj=0.729618; rho=1\n",
      "2019-10-07 14:56:30.750 INFO     CG 0: curv=0.12270066398579824, terminate on trust region boundary, model=2.306235056175222e-05\n",
      "2019-10-07 14:56:30.769 INFO     expanding: Delta=0.0202399\n",
      "2019-10-07 14:56:30.769 INFO     TR 38: obj=0.729594; rho=1\n",
      "2019-10-07 14:56:30.855 INFO     CG 0: curv=0.12270580229366769, terminate on trust region boundary, model=9.224974490712255e-05\n",
      "2019-10-07 14:56:30.874 INFO     expanding: Delta=0.0404798\n",
      "2019-10-07 14:56:30.875 INFO     TR 39: obj=0.729502; rho=1\n",
      "2019-10-07 14:56:30.961 INFO     CG 0: curv=0.12272634464638361, terminate on trust region boundary, model=0.00036900426326238675\n",
      "2019-10-07 14:56:30.981 INFO     expanding: Delta=0.0809596\n",
      "2019-10-07 14:56:30.981 INFO     TR 40: obj=0.729133; rho=1\n",
      "2019-10-07 14:56:31.075 INFO     CG 0: curv=0.12280833882491027, terminate on trust region boundary, model=0.001476088815611055\n",
      "2019-10-07 14:56:31.096 INFO     expanding: Delta=0.161919\n",
      "2019-10-07 14:56:31.096 INFO     TR 41: obj=0.727657; rho=0.999997\n",
      "2019-10-07 14:56:31.186 INFO     CG 0: curv=0.12313343613369516, terminate on trust region boundary, model=0.005904674620191775\n",
      "2019-10-07 14:56:31.204 INFO     expanding: Delta=0.323839\n",
      "2019-10-07 14:56:31.205 INFO     TR 42: obj=0.721753; rho=0.999945\n",
      "2019-10-07 14:56:31.293 INFO     CG 0: curv=0.12438273697278716, terminate on trust region boundary, model=0.023567918616687382\n",
      "2019-10-07 14:56:31.312 INFO     expanding: Delta=0.647677\n",
      "2019-10-07 14:56:31.313 INFO     TR 43: obj=0.698209; rho=0.998984\n",
      "2019-10-07 14:56:31.402 INFO     CG 0: curv=0.1281969467310302, terminate on trust region boundary, model=0.08921419237783265\n",
      "2019-10-07 14:56:31.422 INFO     expanding: Delta=1.29535\n",
      "2019-10-07 14:56:31.423 INFO     TR 44: obj=0.611381; rho=0.973246\n",
      "2019-10-07 14:56:31.507 INFO     CG 0: curv=0.0962655, radius = 0.348419, residual=5.32508, model=0.0793319\n",
      "2019-10-07 14:56:31.584 INFO     CG 1: curv=0.0062274218413236266, terminate on trust region boundary, model=0.13985458355602248\n",
      "2019-10-07 14:56:31.606 INFO     expanding: Delta=2.59071\n",
      "2019-10-07 14:56:31.606 INFO     TR 45: obj=0.481874; rho=0.926013\n",
      "2019-10-07 14:56:31.697 INFO     CG 0: curv=0.0497921, radius = 0.069164, residual=5.98922, model=0.0185818\n",
      "2019-10-07 14:56:31.771 INFO     CG 1: curv=0.0018413, converged inside trust region; radius = 0.507389, residual=6.89707e-14, model=0.0832372\n",
      "2019-10-07 14:56:31.791 INFO     TR 46: obj=0.376677; rho=1.26382\n",
      "2019-10-07 14:56:31.875 INFO     CG 0: curv=0.00295606, radius = 0.0366485, residual=8.5412, model=0.00310819\n",
      "2019-10-07 14:56:31.947 INFO     CG 1: curv=0.000184582, converged inside trust region; radius = 0.505518, residual=1.0947e-13, model=0.0295996\n",
      "2019-10-07 14:56:31.965 INFO     TR 47: obj=0.340131; rho=1.23469\n",
      "2019-10-07 14:56:32.046 INFO     CG 0: curv=0.000272584, radius = 0.0149924, residual=8.60146, model=0.000426437\n",
      "2019-10-07 14:56:32.119 INFO     CG 1: curv=9.34895E-06, converged inside trust region; radius = 0.376875, residual=1.75383e-13, model=0.00723227\n",
      "2019-10-07 14:56:32.137 INFO     TR 48: obj=0.331725; rho=1.16225\n",
      "2019-10-07 14:56:32.220 INFO     CG 0: curv=2.06295e-05, radius = 0.00386141, residual=6.87439, model=2.95588e-05\n",
      "2019-10-07 14:56:32.291 INFO     CG 1: curv=2.14552E-07, converged inside trust region; radius = 0.148589, residual=5.75702e-14, model=0.000664276\n",
      "2019-10-07 14:56:32.308 INFO     TR 49: obj=0.331019; rho=1.0636\n",
      "2019-10-07 14:56:32.390 INFO     CG 0: curv=2.74073e-07, radius = 0.000394436, residual=5.45538, model=3.34287e-07\n",
      "2019-10-07 14:56:32.459 INFO     CG 1: curv=1.20045E-09, converged inside trust region; radius = 0.0168475, residual=2.04929e-13, model=7.09421e-06\n",
      "2019-10-07 14:56:32.475 INFO     TR 50: obj=0.331011; rho=1.00734\n",
      "2019-10-07 14:56:32.483 INFO     cxe = 0.331011, pen = 0\n"
     ]
    },
    {
     "name": "stdout",
     "output_type": "stream",
     "text": [
      "Scaling: 2.393525419459394, Offset: -4.4368493636149795\n"
     ]
    },
    {
     "data": {
      "text/plain": [
       "(0.33101142702519526,\n",
       " 0,\n",
       " {'Delta': 2.590708691577784,\n",
       "  'y': 0.33101142702519526,\n",
       "  'g': array([5.87507415e-06, 5.39215219e-06]),\n",
       "  'hess': functools.partial(<bound method ReplaceHessian.hessian of <pybosaris.calibration.objectives.ReplaceHessian object at 0x1175bcf28>>, dy=1, w=array([ 2.39352542, -4.43684936]))},\n",
       " False)"
      ]
     },
     "execution_count": 3,
     "metadata": {},
     "output_type": "execute_result"
    }
   ],
   "source": [
    "# Taken from `/misc/scratch05/patx/alamja/sre19works/fusion_stuffs/scripts_for_calibration_fusion/fusion_sre19_cmn2_CRIM_v0.m`\n",
    "prior = 0.005\n",
    "maxiters = 50\n",
    "quiet = False\n",
    "objfun = None\n",
    "w0 = fuser.w\n",
    "w, train_cxe, w_pen, optimizerState, converged = train_binary_classifier(\n",
    "    classifier=fuser, classf=classf, w0=w0,\n",
    "    objective_function=objfun, prior=prior,\n",
    "    penalizer=None, penalizer_weight=0,\n",
    "    maxiters=maxiters, maxCG=100, optimizerState=None, quiet=quiet, cstepHessian=True)\n",
    "print(f'Scaling: {w[0]}, Offset: {w[1]}')\n",
    "train_cxe, w_pen, optimizerState, converged"
   ]
  },
  {
   "cell_type": "markdown",
   "metadata": {},
   "source": [
    "## 3. Calibrate input scores\n",
    "\n",
    "Create a function handle that will calibrate input scores using the trained weights: 'w'."
   ]
  },
  {
   "cell_type": "code",
   "execution_count": 4,
   "metadata": {},
   "outputs": [
    {
     "name": "stderr",
     "output_type": "stream",
     "text": [
      "2019-10-07 14:56:37.815 INFO     train Cxe = 0.33101142702519526, cllr: 0.2499196944247855, min: 0.24396251646720607\n"
     ]
    },
    {
     "data": {
      "text/plain": [
       "<pybosaris.calibration.linear_fuser.LinearFuser at 0x1175bc9b0>"
      ]
     },
     "execution_count": 4,
     "metadata": {},
     "output_type": "execute_result"
    },
    {
     "data": {
      "text/plain": [
       "array([13.41495912,  4.57981211,  2.72846791, ..., -3.7404842 ,\n",
       "       -5.7557267 , -6.19155452])"
      ]
     },
     "execution_count": 4,
     "metadata": {},
     "output_type": "execute_result"
    },
    {
     "data": {
      "text/plain": [
       "0.2499196944247855"
      ]
     },
     "execution_count": 4,
     "metadata": {},
     "output_type": "execute_result"
    },
    {
     "data": {
      "text/plain": [
       "0.24396251646720607"
      ]
     },
     "execution_count": 4,
     "metadata": {},
     "output_type": "execute_result"
    }
   ],
   "source": [
    "train_fuser = LinearFuser(scores=train_scores, w=w)\n",
    "train_fused_scores = train_fuser.fusion()\n",
    "train_c = cllr(train_fused_scores[:ntar], train_fused_scores[ntar:])\n",
    "train_c_min = min_cllr(train_fused_scores[:ntar], train_fused_scores[ntar:])\n",
    "logging.info('train Cxe = {}, cllr: {}, min: {}'.format(train_cxe, train_c, train_c_min))\n",
    "train_fuser\n",
    "train_fused_scores\n",
    "train_c\n",
    "train_c_min"
   ]
  },
  {
   "cell_type": "markdown",
   "metadata": {},
   "source": [
    "## 4. Analysis"
   ]
  },
  {
   "cell_type": "code",
   "execution_count": 5,
   "metadata": {},
   "outputs": [],
   "source": [
    "def calculate_eer(y, y_score, pos):\n",
    "# y denotes groundtruth scores,\n",
    "# y_score denotes the prediction scores.\n",
    "\n",
    "    fpr, tpr, thresholds = roc_curve(y, y_score, pos_label=pos)\n",
    "    eer = brentq(lambda x : 1. - x - interp1d(fpr, tpr)(x), 0., 1.)\n",
    "    thresh = interp1d(fpr, thresholds)(eer)\n",
    "\n",
    "    return eer, thresh, fpr, tpr\n",
    "\n",
    "# Creates a list of false-negative rates, a list of false-positive rates\n",
    "# and a list of decision thresholds that give those error-rates.\n",
    "def ComputeErrorRates(scores, labels):\n",
    "\n",
    "    # Sort the scores from smallest to largest, and also get the corresponding\n",
    "    # indexes of the sorted scores.  We will treat the sorted scores as the\n",
    "    # thresholds at which the the error-rates are evaluated.\n",
    "    sorted_indexes, thresholds = zip(*sorted(\n",
    "        [(index, threshold) for index, threshold in enumerate(scores)],\n",
    "        key=itemgetter(1)))\n",
    "    sorted_labels = []\n",
    "    labels = [labels[i] for i in sorted_indexes]\n",
    "    fnrs = []\n",
    "    fprs = []\n",
    "\n",
    "    # At the end of this loop, fnrs[i] is the number of errors made by\n",
    "    # incorrectly rejecting scores less than thresholds[i]. And, fprs[i]\n",
    "    # is the total number of times that we have correctly accepted scores\n",
    "    # greater than thresholds[i].\n",
    "    for i in range(0, len(labels)):\n",
    "        if i == 0:\n",
    "            fnrs.append(labels[i])\n",
    "            fprs.append(1 - labels[i])\n",
    "        else:\n",
    "            fnrs.append(fnrs[i-1] + labels[i])\n",
    "            fprs.append(fprs[i-1] + 1 - labels[i])\n",
    "    fnrs_norm = sum(labels)\n",
    "    fprs_norm = len(labels) - fnrs_norm\n",
    "\n",
    "    # Now divide by the total number of false negative errors to\n",
    "    # obtain the false positive rates across all thresholds\n",
    "    fnrs = [x / float(fnrs_norm) for x in fnrs]\n",
    "\n",
    "    # Divide by the total number of corret positives to get the\n",
    "    # true positive rate.  Subtract these quantities from 1 to\n",
    "    # get the false positive rates.\n",
    "    fprs = [1 - x / float(fprs_norm) for x in fprs]\n",
    "    return fnrs, fprs, thresholds\n",
    "\n",
    "# Computes the minimum of the detection cost function.  The comments refer to\n",
    "# equations in Section 3 of the NIST 2016 Speaker Recognition Evaluation Plan.\n",
    "def ComputeMinDcf(fnrs, fprs, thresholds, p_target, c_miss, c_fa):\n",
    "    min_c_det = float(\"inf\")\n",
    "    min_c_det_threshold = thresholds[0]\n",
    "    for i in range(0, len(fnrs)):\n",
    "        # See Equation (2).  it is a weighted sum of false negative\n",
    "        # and false positive errors.\n",
    "        c_det = c_miss * fnrs[i] * p_target + c_fa * fprs[i] * (1 - p_target)\n",
    "        if c_det < min_c_det:\n",
    "            min_c_det = c_det\n",
    "            min_c_det_threshold = thresholds[i]\n",
    "    # See Equations (3) and (4).  Now we normalize the cost.\n",
    "    c_def = min(c_miss * p_target, c_fa * (1 - p_target))\n",
    "    min_dcf = min_c_det / c_def\n",
    "    return min_dcf, min_c_det_threshold\n",
    "\n",
    "def compute_actual_cost(scores, labels, p_target, c_miss=1, c_fa=1):\n",
    "    beta = c_fa * (1 - p_target) / (c_miss * p_target)\n",
    "    decisions = (scores >= np.log(beta)).astype('i')\n",
    "    num_targets = np.sum(labels)\n",
    "    fp = np.sum(decisions * (1 - labels))\n",
    "    num_nontargets = np.sum(1 - labels)\n",
    "    fn = np.sum((1 - decisions) * labels)\n",
    "    fpr = fp / num_nontargets if num_nontargets > 0 else np.nan\n",
    "    fnr = fn / num_targets if num_targets > 0 else np.nan\n",
    "    print(\"act_C : {0:.4f}, at threshold {1:.4f} (p-target={2}, c-miss={3}, \"\n",
    "    \"c-fa={4})\".format(fnr + beta * fpr, np.log(beta), p_target, c_miss, c_fa))\n",
    "    return fnr + beta * fpr, np.log(beta), fpr, fnr"
   ]
  },
  {
   "cell_type": "markdown",
   "metadata": {},
   "source": [
    "### 4.1 Calibrated"
   ]
  },
  {
   "cell_type": "code",
   "execution_count": 6,
   "metadata": {},
   "outputs": [
    {
     "name": "stdout",
     "output_type": "stream",
     "text": [
      "EER : 6.97%\n"
     ]
    }
   ],
   "source": [
    "eer, thresh, fpr, tpr = calculate_eer(classf, train_fused_scores, pos=1)\n",
    "print('EER : %.2f%%'%(eer*100))"
   ]
  },
  {
   "cell_type": "code",
   "execution_count": 7,
   "metadata": {},
   "outputs": [
    {
     "name": "stdout",
     "output_type": "stream",
     "text": [
      "minDCF : 0.3346, at threshold 3.0452 (p-target=0.05, c-miss=1, c-fa=1)\n"
     ]
    }
   ],
   "source": [
    "c_miss = 1\n",
    "c_fa = 1\n",
    "p_target = 0.05\n",
    "classf[classf == -1] = 0\n",
    "\n",
    "fnrs, fprs, thresholds = ComputeErrorRates(train_fused_scores, \n",
    "                                           classf)\n",
    "mindcf, threshold = ComputeMinDcf(fnrs, fprs, thresholds, p_target, c_miss, c_fa)\n",
    "\n",
    "print(\"minDCF : {0:.4f}, at threshold {1:.4f} (p-target={2}, c-miss={3}, \"\n",
    "    \"c-fa={4})\".format(mindcf, threshold, p_target,c_miss, c_fa))"
   ]
  },
  {
   "cell_type": "code",
   "execution_count": 8,
   "metadata": {},
   "outputs": [
    {
     "name": "stdout",
     "output_type": "stream",
     "text": [
      "act_C : 0.4695, at threshold 4.5951 (p-target=0.01, c-miss=1, c-fa=1)\n",
      "act_C : 0.5279, at threshold 5.2933 (p-target=0.005, c-miss=1, c-fa=1)\n",
      "C_primary : 0.4987\n"
     ]
    }
   ],
   "source": [
    "C_norm1, thresh1, fpr, fnr = compute_actual_cost(train_fused_scores, classf, 0.01)\n",
    "C_norm2, thresh2, fpr, fnr = compute_actual_cost(train_fused_scores, classf, 0.005)\n",
    "C_primary = (C_norm1 + C_norm2) / 2\n",
    "print(\"C_primary : {0:.4f}\".format(C_primary))"
   ]
  },
  {
   "cell_type": "markdown",
   "metadata": {},
   "source": [
    "### 4.2 Uncalibrated"
   ]
  },
  {
   "cell_type": "code",
   "execution_count": 9,
   "metadata": {},
   "outputs": [
    {
     "name": "stdout",
     "output_type": "stream",
     "text": [
      "EER : 6.97%\n"
     ]
    }
   ],
   "source": [
    "eer, thresh, fpr, tpr = calculate_eer(classf, train_scores, pos=1)\n",
    "print('EER : %.2f%%'%(eer*100))"
   ]
  },
  {
   "cell_type": "code",
   "execution_count": 10,
   "metadata": {},
   "outputs": [
    {
     "name": "stdout",
     "output_type": "stream",
     "text": [
      "minDCF : 0.3346, at threshold 3.1260 (p-target=0.05, c-miss=1, c-fa=1)\n"
     ]
    }
   ],
   "source": [
    "c_miss = 1\n",
    "c_fa = 1\n",
    "p_target = 0.05\n",
    "classf[classf == -1] = 0\n",
    "\n",
    "fnrs, fprs, thresholds = ComputeErrorRates(train_scores, \n",
    "                                           classf)\n",
    "mindcf, threshold_un = ComputeMinDcf(fnrs, fprs, thresholds, p_target, c_miss, c_fa)\n",
    "\n",
    "print(\"minDCF : {0:.4f}, at threshold {1:.4f} (p-target={2}, c-miss={3}, \"\n",
    "    \"c-fa={4})\".format(mindcf, threshold_un, p_target,c_miss, c_fa))"
   ]
  },
  {
   "cell_type": "code",
   "execution_count": 11,
   "metadata": {},
   "outputs": [
    {
     "name": "stdout",
     "output_type": "stream",
     "text": [
      "act_C : 0.5991, at threshold 4.5951 (p-target=0.01, c-miss=1, c-fa=1)\n",
      "act_C : 0.7549, at threshold 5.2933 (p-target=0.005, c-miss=1, c-fa=1)\n",
      "C_primary : 0.6770\n"
     ]
    }
   ],
   "source": [
    "C_norm1, thresh1_un, fpr, fnr = compute_actual_cost(train_scores, classf, 0.01)\n",
    "C_norm2, thresh2_un, fpr, fnr = compute_actual_cost(train_scores, classf, 0.005)\n",
    "C_primary = (C_norm1 + C_norm2) / 2\n",
    "print(\"C_primary : {0:.4f}\".format(C_primary))"
   ]
  },
  {
   "cell_type": "markdown",
   "metadata": {},
   "source": [
    "### 4.3 Plot"
   ]
  },
  {
   "cell_type": "code",
   "execution_count": 12,
   "metadata": {},
   "outputs": [
    {
     "data": {
      "image/png": "[encoded data removed]",
      "text/plain": [
       "<Figure size 1008x720 with 2 Axes>"
      ]
     },
     "metadata": {
      "needs_background": "light"
     },
     "output_type": "display_data"
    }
   ],
   "source": [
    "plt.figure(figsize=(14,10),)\n",
    "fig = plt.subplot(211)\n",
    "plt.hist(train_scores[:ntar], bins=200, alpha=0.5,)\n",
    "plt.hist(train_scores[ntar:], bins=200, alpha=0.5,)\n",
    "plt.text(threshold_un+0.25, 5000, 'minDCF', fontsize=14,verticalalignment='top')\n",
    "plt.text(thresh1_un+0.25, 4000, 'act_C (p-target=0.01)', c='green', fontsize=14, verticalalignment='top')\n",
    "plt.text(thresh2_un+0.25, 3000, 'act_C (p-target=0.005)', c='red', fontsize=14, verticalalignment='top')\n",
    "plt.axvline(x=threshold_un, c='black', linestyle='--', lw=0.75, label='minDCF: '+str(np.round(threshold,4)))\n",
    "plt.axvline(x=thresh1_un, c='green', linestyle='--', lw=0.75, label='act_C (p-target=0.01): '+str(np.round(thresh1,4)))\n",
    "plt.axvline(x=thresh2_un, c='red', linestyle='--', lw=0.75, label='act_C (p-target=0.005): '+str(np.round(thresh2,4)))\n",
    "plt.title('Uncalibrated Scores')\n",
    "plt.grid()\n",
    "plt.xlim(-15,20);\n",
    "\n",
    "fig = plt.subplot(212)\n",
    "plt.hist(train_fused_scores[:ntar], bins=200, alpha=0.5,)\n",
    "plt.hist(train_fused_scores[ntar:], bins=200, alpha=0.5,)\n",
    "plt.text(threshold+0.25, 5000, 'minDCF', fontsize=14, verticalalignment='top')\n",
    "plt.text(thresh1+0.25, 4000, 'act_C (p-target=0.01)', c='green', fontsize=14, verticalalignment='top')\n",
    "plt.text(thresh2+0.25, 3000, 'act_C (p-target=0.005)', c='red', fontsize=14, verticalalignment='top')\n",
    "plt.axvline(x=threshold, c='black', linestyle='--', lw=0.75, label='minDCF: '+str(np.round(threshold,4)))\n",
    "plt.axvline(x=thresh1, c='green', linestyle='--', lw=0.75, label='act_C (p-target=0.01): '+str(np.round(thresh1,4)))\n",
    "plt.axvline(x=thresh2, c='red', linestyle='--', lw=0.75, label='act_C (p-target=0.005): '+str(np.round(thresh2,4)))\n",
    "plt.title('Calibrated Scores')\n",
    "plt.grid()\n",
    "# plt.legend()\n",
    "plt.xlim(-15,20);"
   ]
  },
  {
   "cell_type": "markdown",
   "metadata": {},
   "source": [
    "## 5. System Fusing"
   ]
  },
  {
   "cell_type": "markdown",
   "metadata": {},
   "source": [
    "### 5.1 Preprocess training data"
   ]
  },
  {
   "cell_type": "code",
   "execution_count": 13,
   "metadata": {},
   "outputs": [],
   "source": [
    "# Split data in target and non-target trials\n",
    "ztscores = pd.read_pickle('asnorm.pkl')\n",
    "zttar = np.array(ztscores[ztscores.label == 1]['normalized_score'])\n",
    "ztnon = np.array(ztscores[ztscores.label == 0]['normalized_score'])\n",
    "\n",
    "# Instantiate a LinearFuser\n",
    "# Function handle for function that must be trained\n",
    "# Get a starting point for the calibration weights: 'w0',\n",
    "# which are zeros by default\n",
    "zttrain_scores = np.hstack((zttar, ztnon))\n",
    "ztfuser = LinearFuser(scores=zttrain_scores)\n",
    "\n",
    "# Create label vector\n",
    "# Let the trainer know which scores are target scores and which are non-target scores. \n",
    "ztntar = zttar.shape[0]\n",
    "ztnnon = ztnon.shape[0]\n",
    "ztclassf = np.hstack((np.ones(ztntar), -np.ones(ztnnon)))"
   ]
  },
  {
   "cell_type": "markdown",
   "metadata": {},
   "source": [
    "### 5.2 Train linear classifier\n",
    "\n",
    "Do the training to get the calibration weights 'w'"
   ]
  },
  {
   "cell_type": "code",
   "execution_count": 14,
   "metadata": {},
   "outputs": [
    {
     "name": "stderr",
     "output_type": "stream",
     "text": [
      "2019-10-07 14:56:43.700 INFO     TR 0 (initial state): obj = 1, Delta = 1.95568\n",
      "2019-10-07 14:56:43.780 INFO     CG 0: curv=11.933, radius = 0.320512, residual=1.49924, model=0.612926\n",
      "2019-10-07 14:56:43.845 INFO     CG 1: curv=0.0177715, converged inside trust region; radius = 0.842743, residual=8.38462e-15, model=0.820854\n",
      "2019-10-07 14:56:43.863 INFO     TR 1: obj=0.486138; rho=0.626009\n",
      "2019-10-07 14:56:43.941 INFO     CG 0: curv=0.0458514, radius = 0.343847, residual=6.79369, model=0.105431\n",
      "2019-10-07 14:56:44.015 INFO     CG 1: curv=0.0178497, converged inside trust region; radius = 0.59977, residual=2.86989e-14, model=0.163123\n",
      "2019-10-07 14:56:44.033 INFO     TR 2: obj=0.300429; rho=1.13846\n",
      "2019-10-07 14:56:44.119 INFO     CG 0: curv=0.0134612, radius = 0.124816, residual=4.56055, model=0.0181449\n",
      "2019-10-07 14:56:44.191 INFO     CG 1: curv=0.000785632, converged inside trust region; radius = 0.297292, residual=1.02788e-14, model=0.0315938\n",
      "2019-10-07 14:56:44.208 INFO     TR 3: obj=0.261524; rho=1.23138\n",
      "2019-10-07 14:56:44.284 INFO     CG 0: curv=0.000906293, radius = 0.0726999, residual=5.5265, model=0.0035906\n",
      "2019-10-07 14:56:44.356 INFO     CG 1: curv=7.64572E-05, converged inside trust region; radius = 0.211171, residual=1.96848e-14, model=0.00756086\n",
      "2019-10-07 14:56:44.376 INFO     TR 4: obj=0.252726; rho=1.16369\n",
      "2019-10-07 14:56:44.460 INFO     CG 0: curv=3.74883e-05, radius = 0.0238622, residual=6.22528, model=0.000281154\n",
      "2019-10-07 14:56:44.530 INFO     CG 1: curv=3.6734E-06, converged inside trust region; radius = 0.0842863, residual=2.60462e-14, model=0.000712084\n",
      "2019-10-07 14:56:44.548 INFO     TR 5: obj=0.251967; rho=1.0657\n",
      "2019-10-07 14:56:44.624 INFO     CG 0: curv=3.15733e-07, radius = 0.00259248, residual=6.49836, model=2.96547e-06\n",
      "2019-10-07 14:56:44.694 INFO     CG 1: curv=3.2182E-08, converged inside trust region; radius = 0.00997624, residual=1.39024e-15, model=8.15364e-06\n",
      "2019-10-07 14:56:44.713 INFO     TR 6: obj=0.251959; rho=1.00788\n",
      "2019-10-07 14:56:44.797 INFO     CG 0: curv=4.31853e-11, radius = 3.09791e-05, residual=6.54449, model=4.17416e-10\n",
      "2019-10-07 14:56:44.867 INFO     CG 1: curv=4.45255E-12, converged inside trust region; radius = 0.000120441, residual=8.69324e-15, model=1.16009e-09\n",
      "2019-10-07 14:56:44.884 INFO     TR 7: converged with minimal model change\n",
      "2019-10-07 14:56:44.886 INFO     cxe = 0.251959, pen = 0\n"
     ]
    },
    {
     "name": "stdout",
     "output_type": "stream",
     "text": [
      "Scaling: 2.393525419459394, Offset: -4.4368493636149795\n"
     ]
    },
    {
     "data": {
      "text/plain": [
       "(0.2519588166241414,\n",
       " 0,\n",
       " {'Delta': 1.9556755853819663,\n",
       "  'y': 0.2519588166241414,\n",
       "  'g': array([1.18584613e-20, 1.69406589e-21]),\n",
       "  'hess': functools.partial(<bound method ReplaceHessian.hessian of <pybosaris.calibration.objectives.ReplaceHessian object at 0x106cb6128>>, dy=1, w=array([ 1.3117091, -0.8228296]))},\n",
       " True)"
      ]
     },
     "execution_count": 14,
     "metadata": {},
     "output_type": "execute_result"
    }
   ],
   "source": [
    "ztprior = 0.1\n",
    "ztmaxiters = 50\n",
    "ztquiet = False\n",
    "ztobjfun = None\n",
    "ztw0 = ztfuser.w\n",
    "ztw, zttrain_cxe, ztw_pen, ztoptimizerState, ztconverged = train_binary_classifier(\n",
    "    classifier=ztfuser, classf=ztclassf, w0=ztw0,\n",
    "    objective_function=ztobjfun, prior=ztprior,\n",
    "    penalizer=None, penalizer_weight=0,\n",
    "    maxiters=ztmaxiters, maxCG=100, optimizerState=None, quiet=ztquiet, cstepHessian=True)\n",
    "print(f'Scaling: {w[0]}, Offset: {w[1]}')\n",
    "zttrain_cxe, ztw_pen, ztoptimizerState, ztconverged"
   ]
  },
  {
   "cell_type": "markdown",
   "metadata": {},
   "source": [
    "### 5.3 Calibrate input scores\n",
    "\n",
    "Create a function handle that will calibrate input scores using the trained weights: 'w'."
   ]
  },
  {
   "cell_type": "code",
   "execution_count": 15,
   "metadata": {},
   "outputs": [
    {
     "name": "stderr",
     "output_type": "stream",
     "text": [
      "2019-10-07 14:56:49.997 INFO     train Cxe = 0.2519588166241414, cllr: 0.2421815727512532, min: 0.24015156200997065\n"
     ]
    },
    {
     "data": {
      "text/plain": [
       "<pybosaris.calibration.linear_fuser.LinearFuser at 0x11d7677f0>"
      ]
     },
     "execution_count": 15,
     "metadata": {},
     "output_type": "execute_result"
    },
    {
     "data": {
      "text/plain": [
       "array([14.29322226,  5.58601139,  3.49514761, ..., -3.5205527 ,\n",
       "       -6.05974736, -6.49822879])"
      ]
     },
     "execution_count": 15,
     "metadata": {},
     "output_type": "execute_result"
    },
    {
     "data": {
      "text/plain": [
       "0.2421815727512532"
      ]
     },
     "execution_count": 15,
     "metadata": {},
     "output_type": "execute_result"
    },
    {
     "data": {
      "text/plain": [
       "0.24015156200997065"
      ]
     },
     "execution_count": 15,
     "metadata": {},
     "output_type": "execute_result"
    }
   ],
   "source": [
    "zttrain_fuser = LinearFuser(scores=zttrain_scores, w=ztw)\n",
    "zttrain_fused_scores = zttrain_fuser.fusion()\n",
    "zttrain_c = cllr(zttrain_fused_scores[:ntar], zttrain_fused_scores[ntar:])\n",
    "zttrain_c_min = min_cllr(zttrain_fused_scores[:ztntar], zttrain_fused_scores[ztntar:])\n",
    "logging.info('train Cxe = {}, cllr: {}, min: {}'.format(zttrain_cxe, zttrain_c, zttrain_c_min))\n",
    "zttrain_fuser\n",
    "zttrain_fused_scores\n",
    "zttrain_c\n",
    "zttrain_c_min"
   ]
  },
  {
   "cell_type": "markdown",
   "metadata": {},
   "source": [
    "### 5.4 Analysis"
   ]
  },
  {
   "cell_type": "code",
   "execution_count": 16,
   "metadata": {},
   "outputs": [
    {
     "name": "stdout",
     "output_type": "stream",
     "text": [
      "EER : 6.85%\n"
     ]
    }
   ],
   "source": [
    "eer, thresh, fpr, tpr = calculate_eer(ztclassf, zttrain_fused_scores, pos=1)\n",
    "print('EER : %.2f%%'%(eer*100))"
   ]
  },
  {
   "cell_type": "code",
   "execution_count": 17,
   "metadata": {},
   "outputs": [
    {
     "name": "stdout",
     "output_type": "stream",
     "text": [
      "minDCF : 0.3423, at threshold 2.8607 (p-target=0.05, c-miss=1, c-fa=1)\n"
     ]
    }
   ],
   "source": [
    "c_miss = 1\n",
    "c_fa = 1\n",
    "p_target = 0.05\n",
    "ztclassf[ztclassf == -1] = 0\n",
    "\n",
    "fnrs, fprs, thresholds = ComputeErrorRates(zttrain_fused_scores, \n",
    "                                           ztclassf)\n",
    "mindcf, threshold = ComputeMinDcf(fnrs, fprs, thresholds, p_target, c_miss, c_fa)\n",
    "\n",
    "print(\"minDCF : {0:.4f}, at threshold {1:.4f} (p-target={2}, c-miss={3}, \"\n",
    "    \"c-fa={4})\".format(mindcf, threshold, p_target,c_miss, c_fa))"
   ]
  },
  {
   "cell_type": "code",
   "execution_count": 18,
   "metadata": {},
   "outputs": [
    {
     "name": "stdout",
     "output_type": "stream",
     "text": [
      "act_C : 0.4981, at threshold 4.5951 (p-target=0.01, c-miss=1, c-fa=1)\n",
      "act_C : 0.5683, at threshold 5.2933 (p-target=0.005, c-miss=1, c-fa=1)\n",
      "C_primary : 0.5332\n"
     ]
    }
   ],
   "source": [
    "C_norm1, thresh1, fpr, fnr = compute_actual_cost(zttrain_fused_scores, ztclassf, 0.01)\n",
    "C_norm2, thresh2, fpr, fnr = compute_actual_cost(zttrain_fused_scores, ztclassf, 0.005)\n",
    "C_primary = (C_norm1 + C_norm2) / 2\n",
    "print(\"C_primary : {0:.4f}\".format(C_primary))"
   ]
  },
  {
   "cell_type": "markdown",
   "metadata": {},
   "source": [
    "### 5.5 Merge scores"
   ]
  },
  {
   "cell_type": "code",
   "execution_count": 19,
   "metadata": {},
   "outputs": [],
   "source": [
    "# Divide scores of each system to target and non-target\n",
    "tar = train_fused_scores[classf==1]\n",
    "non = train_fused_scores[classf==0]\n",
    "zttar = zttrain_fused_scores[ztclassf==1]\n",
    "ztnon = zttrain_fused_scores[ztclassf==0]\n",
    "\n",
    "# Merge target and non-target instances of each system\n",
    "# Merge to single scores array\n",
    "tar = np.vstack((tar, zttar))\n",
    "non = np.vstack((non, ztnon))\n",
    "merged_train_scores = np.vstack((tar.T, non.T)).T\n",
    "\n",
    "# Instantiate Fuser\n",
    "merged_fuser = LinearFuser(scores=merged_train_scores)\n",
    "\n",
    "# Labels\n",
    "ntar = tar.shape[1]\n",
    "nnon = non.shape[1]\n",
    "merged_classf = np.hstack((np.ones(ntar), -np.ones(nnon)))"
   ]
  },
  {
   "cell_type": "markdown",
   "metadata": {},
   "source": [
    "### 5.6 Train Linear Classifier"
   ]
  },
  {
   "cell_type": "code",
   "execution_count": 20,
   "metadata": {},
   "outputs": [
    {
     "name": "stderr",
     "output_type": "stream",
     "text": [
      "2019-10-07 14:56:52.344 INFO     TR 0 (initial state): obj = 1, Delta = 3.73569\n",
      "2019-10-07 14:56:52.468 INFO     CG 0: curv=190.157, converged inside trust region; radius = 0.0733887, residual=0.904888, model=0.512084\n",
      "2019-10-07 14:56:52.487 INFO     TR 1: obj=0.390221; rho=1.19078\n",
      "2019-10-07 14:56:52.568 INFO     CG 0: curv=6.38526, converged inside trust region; radius = 0.0450285, residual=0.277363, model=0.086134\n",
      "2019-10-07 14:56:52.589 INFO     TR 2: obj=0.283428; rho=1.23985\n",
      "2019-10-07 14:56:52.670 INFO     CG 0: curv=0.297323, converged inside trust region; radius = 0.0375053, residual=0.224627, model=0.0242846\n",
      "2019-10-07 14:56:52.691 INFO     TR 3: obj=0.25424; rho=1.20189\n",
      "2019-10-07 14:56:52.782 INFO     CG 0: curv=0.0120229, converged inside trust region; radius = 0.0212794, residual=0.155766, model=0.00391515\n",
      "2019-10-07 14:56:52.799 INFO     TR 4: obj=0.249904; rho=1.10772\n",
      "2019-10-07 14:56:52.881 INFO     CG 0: curv=0.000207454, converged inside trust region; radius = 0.00468408, residual=0.364967, model=0.000134464\n",
      "2019-10-07 14:56:52.901 INFO     TR 5: obj=0.249766; rho=1.02315\n",
      "2019-10-07 14:56:52.980 INFO     CG 0: curv=2.21754e-07, radius = 0.000494463, residual=9.86456, model=6.8591e-07\n",
      "2019-10-07 14:56:53.060 INFO     CG 1: curv=2.70649e-08, radius = 0.00582058, residual=6.27248, model=6.00752e-06\n",
      "2019-10-07 14:56:53.148 INFO     CG 2: curv=4.59626E-09, converged inside trust region; radius = 0.0125417, residual=2.01649e-12, model=1.11301e-05\n",
      "2019-10-07 14:56:53.165 INFO     TR 6: obj=0.249755; rho=0.999583\n",
      "2019-10-07 14:56:53.254 INFO     CG 0: curv=7.33116e-10, radius = 1.00795e-05, residual=1.37056, model=5.68995e-10\n",
      "2019-10-07 14:56:53.330 INFO     CG 1: curv=9.89697E-13, converged inside trust region; radius = 2.30464e-05, residual=0.0303388, model=7.17714e-10\n",
      "2019-10-07 14:56:53.349 INFO     TR 7: converged with minimal model change\n",
      "2019-10-07 14:56:53.351 INFO     cxe = 0.249755, pen = 0\n"
     ]
    },
    {
     "data": {
      "text/plain": [
       "(0.2497548186565158,\n",
       " 0,\n",
       " {'Delta': 3.7356925978352744,\n",
       "  'y': 0.2497548186565158,\n",
       "  'g': array([-6.14710272e-08,  6.74887145e-08, -8.59177545e-09]),\n",
       "  'hess': functools.partial(<bound method ReplaceHessian.hessian of <pybosaris.calibration.objectives.ReplaceHessian object at 0x119f34ef0>>, dy=1, w=array([0.46177758, 0.49901578, 0.03769804]))},\n",
       " True)"
      ]
     },
     "execution_count": 20,
     "metadata": {},
     "output_type": "execute_result"
    }
   ],
   "source": [
    "prior = 0.1\n",
    "maxiters = 50\n",
    "quiet = False\n",
    "objfun = None\n",
    "w0 = merged_fuser.w\n",
    "w, train_cxe, w_pen, optimizerState, converged = train_binary_classifier(\n",
    "    classifier=merged_fuser, classf=merged_classf, w0=w0,\n",
    "    objective_function=objfun, prior=prior,\n",
    "    penalizer=None, penalizer_weight=0,\n",
    "    maxiters=maxiters, maxCG=100, optimizerState=None, quiet=quiet, cstepHessian=True)\n",
    "# print(f'Scaling: {w[0]}, Offset: {w[1]}')\n",
    "train_cxe, w_pen, optimizerState, converged"
   ]
  },
  {
   "cell_type": "markdown",
   "metadata": {},
   "source": [
    "### 5.7 Calibrate input scores"
   ]
  },
  {
   "cell_type": "code",
   "execution_count": 21,
   "metadata": {},
   "outputs": [
    {
     "name": "stderr",
     "output_type": "stream",
     "text": [
      "2019-10-07 14:56:58.630 INFO     train Cxe = 0.2497548186565158, cllr: 0.24277501388462586, min: 0.2401986386661346\n"
     ]
    },
    {
     "data": {
      "text/plain": [
       "<pybosaris.calibration.linear_fuser.LinearFuser at 0x11da6ea20>"
      ]
     },
     "execution_count": 21,
     "metadata": {},
     "output_type": "execute_result"
    },
    {
     "data": {
      "text/plain": [
       "array([13.36496877,  4.94006039,  3.04177714, ..., -3.44638503,\n",
       "       -5.64407702, -6.06414169])"
      ]
     },
     "execution_count": 21,
     "metadata": {},
     "output_type": "execute_result"
    },
    {
     "data": {
      "text/plain": [
       "0.24277501388462586"
      ]
     },
     "execution_count": 21,
     "metadata": {},
     "output_type": "execute_result"
    },
    {
     "data": {
      "text/plain": [
       "0.2401986386661346"
      ]
     },
     "execution_count": 21,
     "metadata": {},
     "output_type": "execute_result"
    }
   ],
   "source": [
    "merged_train_fuser = LinearFuser(scores=merged_train_scores, w=w)\n",
    "merged_train_fused_scores = merged_train_fuser.fusion()\n",
    "train_c = cllr(merged_train_fused_scores[:ntar], merged_train_fused_scores[ntar:])\n",
    "train_c_min = min_cllr(merged_train_fused_scores[:ntar], merged_train_fused_scores[ntar:])\n",
    "logging.info('train Cxe = {}, cllr: {}, min: {}'.format(train_cxe, train_c, train_c_min))\n",
    "merged_train_fuser\n",
    "merged_train_fused_scores\n",
    "train_c\n",
    "train_c_min"
   ]
  },
  {
   "cell_type": "markdown",
   "metadata": {},
   "source": [
    "### 5.8 Analysis"
   ]
  },
  {
   "cell_type": "code",
   "execution_count": 22,
   "metadata": {},
   "outputs": [
    {
     "name": "stdout",
     "output_type": "stream",
     "text": [
      "EER : 6.88%\n"
     ]
    }
   ],
   "source": [
    "eer, thresh, fpr, tpr = calculate_eer(merged_classf, merged_train_fused_scores, pos=1)\n",
    "print('EER : %.2f%%'%(eer*100))"
   ]
  },
  {
   "cell_type": "code",
   "execution_count": 23,
   "metadata": {},
   "outputs": [
    {
     "name": "stdout",
     "output_type": "stream",
     "text": [
      "minDCF : 0.3363, at threshold 2.7879 (p-target=0.05, c-miss=1, c-fa=1)\n"
     ]
    }
   ],
   "source": [
    "c_miss = 1\n",
    "c_fa = 1\n",
    "p_target = 0.05\n",
    "merged_classf[merged_classf == -1] = 0\n",
    "\n",
    "fnrs, fprs, thresholds = ComputeErrorRates(merged_train_fused_scores, \n",
    "                                           merged_classf)\n",
    "mindcf, threshold = ComputeMinDcf(fnrs, fprs, thresholds, p_target, c_miss, c_fa)\n",
    "\n",
    "print(\"minDCF : {0:.4f}, at threshold {1:.4f} (p-target={2}, c-miss={3}, \"\n",
    "    \"c-fa={4})\".format(mindcf, threshold, p_target,c_miss, c_fa))"
   ]
  },
  {
   "cell_type": "code",
   "execution_count": 24,
   "metadata": {},
   "outputs": [
    {
     "name": "stdout",
     "output_type": "stream",
     "text": [
      "act_C : 0.4749, at threshold 4.5951 (p-target=0.01, c-miss=1, c-fa=1)\n",
      "act_C : 0.5444, at threshold 5.2933 (p-target=0.005, c-miss=1, c-fa=1)\n",
      "C_primary : 0.5096\n"
     ]
    }
   ],
   "source": [
    "C_norm1, thresh1, fpr, fnr = compute_actual_cost(merged_train_fused_scores, merged_classf, 0.01)\n",
    "C_norm2, thresh2, fpr, fnr = compute_actual_cost(merged_train_fused_scores, merged_classf, 0.005)\n",
    "C_primary = (C_norm1 + C_norm2) / 2\n",
    "print(\"C_primary : {0:.4f}\".format(C_primary))"
   ]
  },
  {
   "cell_type": "code",
   "execution_count": 25,
   "metadata": {},
   "outputs": [
    {
     "data": {
      "image/png": "[encoded data removed]",
      "text/plain": [
       "<Figure size 1008x720 with 1 Axes>"
      ]
     },
     "metadata": {
      "needs_background": "light"
     },
     "output_type": "display_data"
    }
   ],
   "source": [
    "plt.figure(figsize=(14,10),)\n",
    "fig = plt.subplot(111)\n",
    "plt.hist(merged_train_fused_scores[:ntar], bins=200, alpha=0.5,)\n",
    "plt.hist(merged_train_fused_scores[ntar:], bins=200, alpha=0.5,)\n",
    "plt.text(threshold+0.25, 5000, 'minDCF', fontsize=14, verticalalignment='top')\n",
    "plt.text(thresh1+0.25, 4000, 'act_C (p-target=0.01)', c='green', fontsize=14, verticalalignment='top')\n",
    "plt.text(thresh2+0.25, 3000, 'act_C (p-target=0.005)', c='red', fontsize=14, verticalalignment='top')\n",
    "plt.axvline(x=threshold, c='black', linestyle='--', lw=0.75, label='minDCF: '+str(np.round(threshold,4)))\n",
    "plt.axvline(x=thresh1, c='green', linestyle='--', lw=0.75, label='act_C (p-target=0.01): '+str(np.round(thresh1,4)))\n",
    "plt.axvline(x=thresh2, c='red', linestyle='--', lw=0.75, label='act_C (p-target=0.005): '+str(np.round(thresh2,4)))\n",
    "plt.title('Calibrated Scores')\n",
    "plt.grid()\n",
    "# plt.legend()\n",
    "plt.xlim(-15,20);"
   ]
  }
 ],
 "metadata": {
  "kernelspec": {
   "display_name": "Python (nist-sre)",
   "language": "python",
   "name": "nist-sre"
  },
  "language_info": {
   "codemirror_mode": {
    "name": "ipython",
    "version": 3
   },
   "file_extension": ".py",
   "mimetype": "text/x-python",
   "name": "python",
   "nbconvert_exporter": "python",
   "pygments_lexer": "ipython3",
   "version": "3.7.3"
  }
 },
 "nbformat": 4,
 "nbformat_minor": 2
}
