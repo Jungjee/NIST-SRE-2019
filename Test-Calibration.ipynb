{
 "cells": [
  {
   "cell_type": "code",
   "execution_count": 13,
   "metadata": {},
   "outputs": [],
   "source": [
    "import os\n",
    "import sys\n",
    "lib_path = os.path.join(os.path.dirname('.'), \"pybosaris-master\")\n",
    "sys.path.append(lib_path)\n",
    "lib_path = os.path.join(os.path.dirname('.'), \"pybosaris-master/tests\")\n",
    "sys.path.append(lib_path)\n",
    "from calibration.test_cllrObjective import *"
   ]
  },
  {
   "cell_type": "code",
   "execution_count": 14,
   "metadata": {},
   "outputs": [],
   "source": [
    "t = TestCllrObjective()"
   ]
  },
  {
   "cell_type": "code",
   "execution_count": 16,
   "metadata": {},
   "outputs": [],
   "source": [
    "t.setUp()"
   ]
  },
  {
   "cell_type": "code",
   "execution_count": 27,
   "metadata": {},
   "outputs": [
    {
     "name": "stderr",
     "output_type": "stream",
     "text": [
      "2019-10-02 11:58:34.101 INFO     test gradient : cstep err = 2.220446049250313e-16, rstep err = 8.098608588608114e-08\n",
      "2019-10-02 11:58:34.109 INFO     test Jacobian : cstep err = 2.220446049250313e-16, rstep err = 8.098608588608114e-08\n",
      "2019-10-02 11:58:34.110 INFO     test Jacobian-gradient: 0.0\n",
      "2019-10-02 11:58:34.111 INFO     test Hess prod: cstep err = 4.163336342344337e-17, rstep err = 1.9195689690554296e-09, cstep-rstep = 1.919568927422066e-09\n",
      "2019-10-02 11:58:34.113 INFO     test H1-H2: 0.0\n"
     ]
    }
   ],
   "source": [
    "t.test_BOSARIS()"
   ]
  },
  {
   "cell_type": "code",
   "execution_count": 29,
   "metadata": {},
   "outputs": [],
   "source": [
    "import os\n",
    "import sys\n",
    "lib_path = os.path.join(os.path.dirname('.'), \"pybosaris-master\")\n",
    "sys.path.append(lib_path)\n",
    "lib_path = os.path.join(os.path.dirname('.'), \"pybosaris-master/tests\")\n",
    "sys.path.append(lib_path)\n",
    "from calibration.test_linearFuser import *"
   ]
  },
  {
   "cell_type": "code",
   "execution_count": 30,
   "metadata": {},
   "outputs": [],
   "source": [
    "t = TestLinearFuser()"
   ]
  },
  {
   "cell_type": "code",
   "execution_count": 31,
   "metadata": {},
   "outputs": [
    {
     "name": "stderr",
     "output_type": "stream",
     "text": [
      "2019-10-02 12:01:36.596 INFO     test gradient : cstep err = 0.0, rstep err = 0.0\n",
      "2019-10-02 12:01:36.598 INFO     test Jacobian : cstep err = 0.0, rstep err = 0.0\n",
      "2019-10-02 12:01:36.599 INFO     test Jacobian-gradient: 0.0\n",
      "2019-10-02 12:01:36.601 INFO     test Hess prod: cstep err = 0.0, rstep err = 0.0, cstep-rstep = 0.0\n",
      "2019-10-02 12:01:36.603 INFO     test H1-H2: 0.0\n",
      "2019-10-02 12:01:36.605 INFO     test gradient : cstep err = 0.0, rstep err = 0.0\n",
      "2019-10-02 12:01:36.607 INFO     test Jacobian : cstep err = 0.0, rstep err = 0.0\n",
      "2019-10-02 12:01:36.609 INFO     test Jacobian-gradient: 0.0\n",
      "2019-10-02 12:01:36.610 INFO     test Hess prod: cstep err = 0.0, rstep err = 0.0, cstep-rstep = 0.0\n",
      "2019-10-02 12:01:36.611 INFO     test H1-H2: 0.0\n"
     ]
    }
   ],
   "source": [
    "t.test_splitvec_fh()"
   ]
  },
  {
   "cell_type": "code",
   "execution_count": 33,
   "metadata": {},
   "outputs": [
    {
     "name": "stderr",
     "output_type": "stream",
     "text": [
      "2019-10-02 12:06:46.967 INFO     TR 0 (initial state): obj = 1, Delta = 0.214662\n",
      "2019-10-02 12:06:46.968 INFO     CG 0: curv=0.641345, converged inside trust region; radius = 0.071849, residual=0.954157, model=0.0016554\n",
      "2019-10-02 12:06:46.969 INFO     TR 1: obj=0.998445; rho=0.939534\n",
      "2019-10-02 12:06:46.970 INFO     CG 0: curv=0.00793493, radius = 0.0154195, residual=9.24879, model=4.91948e-05\n",
      "2019-10-02 12:06:46.971 INFO     CG 1: curv=7.254191228292703e-05, terminate on trust region boundary, model=0.001078666639678597\n",
      "2019-10-02 12:06:46.972 INFO     expanding: Delta=0.429325\n",
      "2019-10-02 12:06:46.974 INFO     TR 2: obj=0.997364; rho=1.00168\n",
      "2019-10-02 12:06:46.975 INFO     CG 0: curv=0.00398734, radius = 0.00742055, residual=11.0734, model=3.71673e-05\n",
      "2019-10-02 12:06:46.976 INFO     CG 1: curv=7.33662E-05, converged inside trust region; radius = 0.822578, residual=1.25468e-13, model=0.00307438\n",
      "2019-10-02 12:06:46.977 INFO     TR 3: obj=0.994053; rho=1.07693\n",
      "2019-10-02 12:06:46.979 INFO     CG 0: curv=0.0012849, radius = 0.00127545, residual=2.30875, model=2.43516e-06\n",
      "2019-10-02 12:06:46.980 INFO     CG 1: curv=1.69987E-07, converged inside trust region; radius = 0.122059, residual=1.91072e-13, model=5.47334e-05\n",
      "2019-10-02 12:06:46.980 INFO     TR 4: obj=0.993998; rho=1.0132\n",
      "2019-10-02 12:06:46.981 INFO     CG 0: curv=3.79657e-07, radius = 2.25484e-05, residual=2.66549, model=7.46971e-10\n",
      "2019-10-02 12:06:46.982 INFO     CG 1: curv=6.67228E-11, converged inside trust region; radius = 0.00252051, residual=2.53004e-13, model=2.22021e-08\n",
      "2019-10-02 12:06:46.983 INFO     TR 5: obj=0.993998; rho=1.00027\n",
      "2019-10-02 12:06:46.984 INFO     CG 0: curv=6.51535e-14, radius = 9.32234e-09, residual=2.6383, model=1.27849e-16\n",
      "2019-10-02 12:06:46.985 INFO     CG 1: curv=1.11791E-17, converged inside trust region; radius = 1.03433e-06, residual=1.29672e-12, model=3.73802e-15\n",
      "2019-10-02 12:06:46.986 INFO     TR 6: converged with minimal model change\n",
      "2019-10-02 12:06:46.988 INFO     cxe = 0.993998, pen = 0\n",
      "2019-10-02 12:06:46.989 INFO     TR 0 (initial state): obj = 1, Delta = 0.574538\n",
      "2019-10-02 12:06:46.991 INFO     CG 0: curv=3.77027, radius = 0.0875518, residual=1.11709, model=0.0144501\n",
      "2019-10-02 12:06:46.992 INFO     CG 1: curv=0.00014108187127961883, terminate on trust region boundary, model=0.019731793580995\n",
      "2019-10-02 12:06:46.994 INFO     expanding: Delta=1.14908\n",
      "2019-10-02 12:06:46.995 INFO     TR 1: obj=0.978098; rho=1.10996\n",
      "2019-10-02 12:06:46.996 INFO     CG 0: curv=0.0947811, radius = 0.0207957, residual=5.44897, model=0.00156907\n",
      "2019-10-02 12:06:46.998 INFO     CG 1: curv=0.00019988024934686078, terminate on trust region boundary, model=0.018731460111749237\n",
      "2019-10-02 12:06:46.999 INFO     expanding: Delta=2.29815\n",
      "2019-10-02 12:06:47.000 INFO     TR 2: obj=0.959231; rho=1.00727\n",
      "2019-10-02 12:06:47.002 INFO     CG 0: curv=0.00050001, radius = 0.139764, residual=51.3084, model=0.00872958\n",
      "2019-10-02 12:06:47.004 INFO     CG 1: curv=0.0895767, converged inside trust region; radius = 0.688542, residual=1.02572e-14, model=0.0424994\n",
      "2019-10-02 12:06:47.005 INFO     TR 3: obj=0.936195; rho=0.542025\n",
      "2019-10-02 12:06:47.006 INFO     CG 0: curv=0.117322, radius = 0.0132759, residual=2.34498, model=0.00233356\n",
      "2019-10-02 12:06:47.007 INFO     CG 1: curv=0.000123428, converged inside trust region; radius = 0.170658, residual=1.33488e-14, model=0.0090408\n",
      "2019-10-02 12:06:47.010 INFO     TR 4: obj=0.926329; rho=1.09125\n",
      "2019-10-02 12:06:47.012 INFO     CG 0: curv=0.00122764, radius = 0.0016944, residual=3.17531, model=3.27983e-05\n",
      "2019-10-02 12:06:47.013 INFO     CG 1: curv=2.1731E-06, converged inside trust region; radius = 0.0327059, residual=5.21437e-14, model=0.000221158\n",
      "2019-10-02 12:06:47.014 INFO     TR 5: obj=0.926104; rho=1.01827\n",
      "2019-10-02 12:06:47.016 INFO     CG 0: curv=7.88679e-07, radius = 4.45913e-05, residual=3.4561, model=2.21535e-08\n",
      "2019-10-02 12:06:47.017 INFO     CG 1: curv=1.64053E-09, converged inside trust region; radius = 0.000951824, residual=3.24666e-14, model=1.74104e-07\n",
      "2019-10-02 12:06:47.018 INFO     TR 6: obj=0.926104; rho=1.00053\n",
      "2019-10-02 12:06:47.019 INFO     CG 0: curv=5.1394e-13, radius = 3.59276e-08, residual=3.43313, model=1.43996e-14\n",
      "2019-10-02 12:06:47.021 INFO     CG 1: curv=1.05051E-15, converged inside trust region; radius = 7.64399e-07, residual=1.42885e-14, model=1.12263e-13\n",
      "2019-10-02 12:06:47.022 INFO     TR 7: converged with minimal model change\n",
      "2019-10-02 12:06:47.024 INFO     cxe = 0.926104, pen = 0\n",
      "2019-10-02 12:06:47.026 INFO     TR 0 (initial state): obj = 1, Delta = 0.574538\n",
      "2019-10-02 12:06:47.028 INFO     CG 0: curv=2.06516, radius = 0.15984, residual=1.35137, model=0.026381\n",
      "2019-10-02 12:06:47.030 INFO     CG 1: curv=0.000376933831369008, terminate on trust region boundary, model=0.03526206422318996\n",
      "2019-10-02 12:06:47.031 INFO     TR 1: obj=0.973984; rho=0.737796\n",
      "2019-10-02 12:06:47.033 INFO     CG 0: curv=1.5277, radius = 0.0424128, residual=2.00576, model=0.00406821\n",
      "2019-10-02 12:06:47.034 INFO     CG 1: curv=0.0003274011588052434, terminate on trust region boundary, model=0.01374841409757129\n",
      "2019-10-02 12:06:47.036 INFO     expanding: Delta=1.14908\n",
      "2019-10-02 12:06:47.037 INFO     TR 2: obj=0.959945; rho=1.02115\n",
      "2019-10-02 12:06:47.039 INFO     CG 0: curv=0.00440719, radius = 0.039313, residual=27.8367, model=0.00131888\n",
      "2019-10-02 12:06:47.041 INFO     CG 1: curv=0.0142233, converged inside trust region; radius = 0.81429, residual=4.38239e-14, model=0.0258566\n",
      "2019-10-02 12:06:47.042 INFO     TR 3: obj=0.92961; rho=1.1732\n",
      "2019-10-02 12:06:47.043 INFO     CG 0: curv=0.0524632, radius = 0.00447357, residual=2.21677, model=0.000166058\n",
      "2019-10-02 12:06:47.045 INFO     CG 1: curv=7.0578E-06, converged inside trust region; radius = 0.372033, residual=5.21574e-13, model=0.00314682\n",
      "2019-10-02 12:06:47.046 INFO     TR 4: obj=0.926178; rho=1.0904\n",
      "2019-10-02 12:06:47.048 INFO     CG 0: curv=0.00103398, radius = 0.000633712, residual=2.09685, model=3.31229e-06\n",
      "2019-10-02 12:06:47.050 INFO     CG 1: curv=9.47734E-08, converged inside trust region; radius = 0.0652601, residual=3.55845e-13, model=7.31711e-05\n",
      "2019-10-02 12:06:47.051 INFO     TR 5: obj=0.926104; rho=1.01631\n",
      "2019-10-02 12:06:47.052 INFO     CG 0: curv=7.5153e-07, radius = 1.69279e-05, residual=1.88786, model=2.37804e-09\n",
      "2019-10-02 12:06:47.054 INFO     CG 1: curv=5.25264E-11, converged inside trust region; radius = 0.0016616, residual=2.39549e-13, model=4.55963e-08\n",
      "2019-10-02 12:06:47.055 INFO     TR 6: obj=0.926104; rho=1.00042\n",
      "2019-10-02 12:06:47.056 INFO     CG 0: curv=3.07705e-13, radius = 1.08151e-08, residual=1.85791, model=9.71675e-16\n",
      "2019-10-02 12:06:47.057 INFO     CG 1: curv=2.07607E-17, converged inside trust region; radius = 1.04764e-06, residual=5.39602e-13, model=1.81315e-14\n",
      "2019-10-02 12:06:47.058 INFO     TR 7: converged with minimal model change\n",
      "2019-10-02 12:06:47.060 INFO     cxe = 0.926104, pen = 0\n",
      "2019-10-02 12:06:47.062 INFO     TR 0 (initial state): obj = 1, Delta = 0.803549\n",
      "2019-10-02 12:06:47.064 INFO     CG 0: curv=14.627, converged inside trust region; radius = 0.0441439, residual=0.74136, model=0.0142517\n",
      "2019-10-02 12:06:47.065 INFO     TR 1: obj=0.9889; rho=0.778825\n",
      "2019-10-02 12:06:47.066 INFO     CG 0: curv=3.31016, radius = 0.00932441, residual=1.99994, model=0.00109253\n",
      "2019-10-02 12:06:47.068 INFO     CG 1: curv=0.00023174027781462515, terminate on trust region boundary, model=0.01578774660972492\n",
      "2019-10-02 12:06:47.070 INFO     expanding: Delta=1.6071\n",
      "2019-10-02 12:06:47.071 INFO     TR 2: obj=0.972805; rho=1.01946\n",
      "2019-10-02 12:06:47.072 INFO     CG 0: curv=0.00932648, radius = 0.00496907, residual=24.7162, model=0.000167996\n",
      "2019-10-02 12:06:47.074 INFO     CG 1: curv=0.00409758, converged inside trust region; radius = 0.459927, residual=3.34059e-13, model=0.0144378\n",
      "2019-10-02 12:06:47.076 INFO     TR 3: obj=0.956647; rho=1.11919\n",
      "2019-10-02 12:06:47.078 INFO     CG 0: curv=0.336151, converged inside trust region; radius = 0.0013209, residual=0.798762, model=9.48485e-05\n",
      "2019-10-02 12:06:47.080 INFO     TR 4: obj=0.956551; rho=1.01217\n",
      "2019-10-02 12:06:47.082 INFO     CG 0: curv=4.80234e-05, radius = 0.0048077, residual=64.2618, model=2.77606e-05\n",
      "2019-10-02 12:06:47.084 INFO     CG 1: curv=0.00326076, converged inside trust region; radius = 0.126955, residual=3.87007e-14, model=0.000724987\n",
      "2019-10-02 12:06:47.086 INFO     TR 5: obj=0.955798; rho=1.03761\n",
      "2019-10-02 12:06:47.088 INFO     CG 0: curv=0.00097721, converged inside trust region; radius = 7.3152e-05, residual=0.826601, model=2.85753e-07\n",
      "2019-10-02 12:06:47.089 INFO     TR 6: obj=0.955798; rho=1.00069\n",
      "2019-10-02 12:06:47.090 INFO     CG 0: curv=3.77981e-08, radius = 0.00106492, residual=123.64, model=3.4351e-07\n",
      "2019-10-02 12:06:47.091 INFO     CG 1: curv=0.000135182, converged inside trust region; radius = 0.00804303, residual=1.08068e-13, model=2.58807e-06\n",
      "2019-10-02 12:06:47.092 INFO     TR 7: obj=0.955796; rho=1.00247\n",
      "2019-10-02 12:06:47.095 INFO     CG 0: curv=1.34519E-08, converged inside trust region; radius = 2.71786e-07, residual=0.823787, model=3.94085e-12\n",
      "2019-10-02 12:06:47.096 INFO     TR 8: converged with minimal model change\n",
      "2019-10-02 12:06:47.096 INFO     cxe = 0.955796, pen = 0\n",
      "2019-10-02 12:06:47.100 INFO     TR 0 (initial state): obj = 1, Delta = 0.214662\n",
      "2019-10-02 12:06:47.102 INFO     CG 0: curv=0.641345, converged inside trust region; radius = 0.071849, residual=0.954157, model=0.0016554\n",
      "2019-10-02 12:06:47.105 INFO     TR 1: obj=0.998445; rho=0.939534\n",
      "2019-10-02 12:06:47.107 INFO     CG 0: curv=0.00793493, radius = 0.0154195, residual=9.24879, model=4.91948e-05\n",
      "2019-10-02 12:06:47.110 INFO     CG 1: curv=7.254191228292701e-05, terminate on trust region boundary, model=0.001078666639678597\n",
      "2019-10-02 12:06:47.111 INFO     expanding: Delta=0.429325\n",
      "2019-10-02 12:06:47.114 INFO     TR 2: obj=0.997364; rho=1.00168\n",
      "2019-10-02 12:06:47.115 INFO     CG 0: curv=0.00398734, radius = 0.00742055, residual=11.0734, model=3.71673e-05\n",
      "2019-10-02 12:06:47.118 INFO     CG 1: curv=7.33662E-05, converged inside trust region; radius = 0.822578, residual=9.11407e-14, model=0.00307438\n",
      "2019-10-02 12:06:47.120 INFO     TR 3: obj=0.994053; rho=1.07693\n",
      "2019-10-02 12:06:47.122 INFO     CG 0: curv=0.0012849, radius = 0.00127545, residual=2.30875, model=2.43516e-06\n",
      "2019-10-02 12:06:47.124 INFO     CG 1: curv=1.69987E-07, converged inside trust region; radius = 0.122059, residual=2.08146e-14, model=5.47334e-05\n",
      "2019-10-02 12:06:47.125 INFO     TR 4: obj=0.993998; rho=1.0132\n",
      "2019-10-02 12:06:47.127 INFO     CG 0: curv=3.79657e-07, radius = 2.25484e-05, residual=2.66549, model=7.46971e-10\n",
      "2019-10-02 12:06:47.129 INFO     CG 1: curv=6.67228E-11, converged inside trust region; radius = 0.00252051, residual=2.17811e-13, model=2.22021e-08\n",
      "2019-10-02 12:06:47.131 INFO     TR 5: obj=0.993998; rho=1.00027\n",
      "2019-10-02 12:06:47.133 INFO     CG 0: curv=6.51535e-14, radius = 9.32234e-09, residual=2.6383, model=1.27849e-16\n",
      "2019-10-02 12:06:47.134 INFO     CG 1: curv=1.11791E-17, converged inside trust region; radius = 1.03433e-06, residual=5.0821e-13, model=3.73802e-15\n",
      "2019-10-02 12:06:47.136 INFO     TR 6: converged with minimal model change\n",
      "2019-10-02 12:06:47.138 INFO     cxe = 0.993998, pen = 0\n",
      "2019-10-02 12:06:47.139 INFO     TR 0 (initial state): obj = 1, Delta = 0.574538\n",
      "2019-10-02 12:06:47.141 INFO     CG 0: curv=3.77027, radius = 0.0875518, residual=1.11709, model=0.0144501\n",
      "2019-10-02 12:06:47.142 INFO     CG 1: curv=0.00014108187127961891, terminate on trust region boundary, model=0.01973179358099502\n",
      "2019-10-02 12:06:47.143 INFO     expanding: Delta=1.14908\n",
      "2019-10-02 12:06:47.144 INFO     TR 1: obj=0.978098; rho=1.10996\n",
      "2019-10-02 12:06:47.145 INFO     CG 0: curv=0.0947811, radius = 0.0207957, residual=5.44897, model=0.00156907\n",
      "2019-10-02 12:06:47.146 INFO     CG 1: curv=0.0001998802493468613, terminate on trust region boundary, model=0.018731460111749233\n",
      "2019-10-02 12:06:47.150 INFO     expanding: Delta=2.29815\n",
      "2019-10-02 12:06:47.152 INFO     TR 2: obj=0.959231; rho=1.00727\n",
      "2019-10-02 12:06:47.155 INFO     CG 0: curv=0.00050001, radius = 0.139764, residual=51.3084, model=0.00872958\n",
      "2019-10-02 12:06:47.157 INFO     CG 1: curv=0.0895767, converged inside trust region; radius = 0.688542, residual=1.03732e-13, model=0.0424994\n",
      "2019-10-02 12:06:47.159 INFO     TR 3: obj=0.936195; rho=0.542025\n",
      "2019-10-02 12:06:47.160 INFO     CG 0: curv=0.117322, radius = 0.0132759, residual=2.34498, model=0.00233356\n",
      "2019-10-02 12:06:47.161 INFO     CG 1: curv=0.000123428, converged inside trust region; radius = 0.170658, residual=4.40354e-14, model=0.0090408\n",
      "2019-10-02 12:06:47.163 INFO     TR 4: obj=0.926329; rho=1.09125\n",
      "2019-10-02 12:06:47.165 INFO     CG 0: curv=0.00122764, radius = 0.0016944, residual=3.17531, model=3.27983e-05\n",
      "2019-10-02 12:06:47.167 INFO     CG 1: curv=2.1731E-06, converged inside trust region; radius = 0.0327059, residual=6.34963e-14, model=0.000221158\n",
      "2019-10-02 12:06:47.168 INFO     TR 5: obj=0.926104; rho=1.01827\n",
      "2019-10-02 12:06:47.169 INFO     CG 0: curv=7.88679e-07, radius = 4.45913e-05, residual=3.4561, model=2.21535e-08\n",
      "2019-10-02 12:06:47.170 INFO     CG 1: curv=1.64053E-09, converged inside trust region; radius = 0.000951824, residual=1.64915e-14, model=1.74104e-07\n",
      "2019-10-02 12:06:47.172 INFO     TR 6: obj=0.926104; rho=1.00053\n",
      "2019-10-02 12:06:47.173 INFO     CG 0: curv=5.1394e-13, radius = 3.59276e-08, residual=3.43313, model=1.43996e-14\n",
      "2019-10-02 12:06:47.175 INFO     CG 1: curv=1.05051E-15, converged inside trust region; radius = 7.64399e-07, residual=6.7121e-14, model=1.12263e-13\n",
      "2019-10-02 12:06:47.176 INFO     TR 7: converged with minimal model change\n",
      "2019-10-02 12:06:47.177 INFO     cxe = 0.926104, pen = 0\n",
      "2019-10-02 12:06:47.179 INFO     TR 0 (initial state): obj = 1, Delta = 0.574538\n",
      "2019-10-02 12:06:47.180 INFO     CG 0: curv=2.06516, radius = 0.15984, residual=1.35137, model=0.026381\n",
      "2019-10-02 12:06:47.182 INFO     CG 1: curv=0.000376933831369008, terminate on trust region boundary, model=0.035262064223189976\n",
      "2019-10-02 12:06:47.183 INFO     TR 1: obj=0.973984; rho=0.737796\n",
      "2019-10-02 12:06:47.184 INFO     CG 0: curv=1.5277, radius = 0.0424128, residual=2.00576, model=0.00406821\n",
      "2019-10-02 12:06:47.186 INFO     CG 1: curv=0.0003274011588052436, terminate on trust region boundary, model=0.013748414097571262\n",
      "2019-10-02 12:06:47.187 INFO     expanding: Delta=1.14908\n",
      "2019-10-02 12:06:47.187 INFO     TR 2: obj=0.959945; rho=1.02115\n",
      "2019-10-02 12:06:47.190 INFO     CG 0: curv=0.00440719, radius = 0.039313, residual=27.8367, model=0.00131888\n",
      "2019-10-02 12:06:47.191 INFO     CG 1: curv=0.0142233, converged inside trust region; radius = 0.81429, residual=6.23511e-14, model=0.0258566\n",
      "2019-10-02 12:06:47.193 INFO     TR 3: obj=0.92961; rho=1.1732\n",
      "2019-10-02 12:06:47.195 INFO     CG 0: curv=0.0524632, radius = 0.00447357, residual=2.21677, model=0.000166058\n",
      "2019-10-02 12:06:47.196 INFO     CG 1: curv=7.0578E-06, converged inside trust region; radius = 0.372033, residual=5.23205e-13, model=0.00314682\n",
      "2019-10-02 12:06:47.197 INFO     TR 4: obj=0.926178; rho=1.0904\n",
      "2019-10-02 12:06:47.198 INFO     CG 0: curv=0.00103398, radius = 0.000633712, residual=2.09685, model=3.31229e-06\n",
      "2019-10-02 12:06:47.199 INFO     CG 1: curv=9.47734E-08, converged inside trust region; radius = 0.0652601, residual=3.60543e-13, model=7.31711e-05\n",
      "2019-10-02 12:06:47.200 INFO     TR 5: obj=0.926104; rho=1.01631\n",
      "2019-10-02 12:06:47.202 INFO     CG 0: curv=7.5153e-07, radius = 1.69279e-05, residual=1.88786, model=2.37804e-09\n",
      "2019-10-02 12:06:47.205 INFO     CG 1: curv=5.25264E-11, converged inside trust region; radius = 0.0016616, residual=2.99236e-13, model=4.55963e-08\n",
      "2019-10-02 12:06:47.207 INFO     TR 6: obj=0.926104; rho=1.00042\n",
      "2019-10-02 12:06:47.211 INFO     CG 0: curv=3.07705e-13, radius = 1.08151e-08, residual=1.85791, model=9.71675e-16\n",
      "2019-10-02 12:06:47.216 INFO     CG 1: curv=2.07607E-17, converged inside trust region; radius = 1.04764e-06, residual=5.3674e-13, model=1.81315e-14\n",
      "2019-10-02 12:06:47.219 INFO     TR 7: converged with minimal model change\n",
      "2019-10-02 12:06:47.221 INFO     cxe = 0.926104, pen = 0\n",
      "2019-10-02 12:06:47.224 INFO     TR 0 (initial state): obj = 1, Delta = 0.803549\n",
      "2019-10-02 12:06:47.228 INFO     CG 0: curv=14.627, converged inside trust region; radius = 0.0441439, residual=0.74136, model=0.0142517\n",
      "2019-10-02 12:06:47.230 INFO     TR 1: obj=0.9889; rho=0.778825\n",
      "2019-10-02 12:06:47.233 INFO     CG 0: curv=3.31016, radius = 0.00932441, residual=1.99994, model=0.00109253\n",
      "2019-10-02 12:06:47.236 INFO     CG 1: curv=0.00023174027781462528, terminate on trust region boundary, model=0.01578774660972492\n",
      "2019-10-02 12:06:47.238 INFO     expanding: Delta=1.6071\n",
      "2019-10-02 12:06:47.239 INFO     TR 2: obj=0.972805; rho=1.01946\n",
      "2019-10-02 12:06:47.241 INFO     CG 0: curv=0.00932648, radius = 0.00496907, residual=24.7162, model=0.000167996\n",
      "2019-10-02 12:06:47.242 INFO     CG 1: curv=0.00409758, converged inside trust region; radius = 0.459927, residual=1.25731e-13, model=0.0144378\n",
      "2019-10-02 12:06:47.243 INFO     TR 3: obj=0.956647; rho=1.11919\n",
      "2019-10-02 12:06:47.244 INFO     CG 0: curv=0.336151, converged inside trust region; radius = 0.0013209, residual=0.798762, model=9.48485e-05\n",
      "2019-10-02 12:06:47.246 INFO     TR 4: obj=0.956551; rho=1.01217\n",
      "2019-10-02 12:06:47.248 INFO     CG 0: curv=4.80234e-05, radius = 0.0048077, residual=64.2618, model=2.77606e-05\n",
      "2019-10-02 12:06:47.251 INFO     CG 1: curv=0.00326076, converged inside trust region; radius = 0.126955, residual=5.79506e-14, model=0.000724987\n",
      "2019-10-02 12:06:47.254 INFO     TR 5: obj=0.955798; rho=1.03761\n",
      "2019-10-02 12:06:47.255 INFO     CG 0: curv=0.00097721, converged inside trust region; radius = 7.3152e-05, residual=0.826601, model=2.85753e-07\n",
      "2019-10-02 12:06:47.257 INFO     TR 6: obj=0.955798; rho=1.00069\n",
      "2019-10-02 12:06:47.258 INFO     CG 0: curv=3.77981e-08, radius = 0.00106492, residual=123.64, model=3.4351e-07\n",
      "2019-10-02 12:06:47.259 INFO     CG 1: curv=0.000135182, converged inside trust region; radius = 0.00804303, residual=2.1775e-14, model=2.58807e-06\n",
      "2019-10-02 12:06:47.260 INFO     TR 7: obj=0.955796; rho=1.00247\n",
      "2019-10-02 12:06:47.261 INFO     CG 0: curv=1.34519E-08, converged inside trust region; radius = 2.71786e-07, residual=0.823787, model=3.94085e-12\n",
      "2019-10-02 12:06:47.262 INFO     TR 8: converged with minimal model change\n",
      "2019-10-02 12:06:47.263 INFO     cxe = 0.955796, pen = 0\n"
     ]
    }
   ],
   "source": [
    "t.test_linear_calibration()"
   ]
  },
  {
   "cell_type": "code",
   "execution_count": 73,
   "metadata": {},
   "outputs": [],
   "source": [
    "def calibrate_get_w(y, s, cstep=False):\n",
    "    classf = numpy.hstack((numpy.ones(y.sum()), -numpy.ones((1-y).sum())))\n",
    "    prior = 0.01\n",
    "    maxiters = 100\n",
    "    quiet = False\n",
    "    objfun = None\n",
    "    scores = numpy.hstack((s[y], s[~y]))\n",
    "    fuser = LinearFuser(scores=scores)\n",
    "    w0 = fuser.w\n",
    "    print(classf)\n",
    "    print(scores)\n",
    "    print(w0)\n",
    "    w, train_cxe, w_pen, optimizerState, converged = train_binary_classifier(\n",
    "        classifier=fuser, classf=classf, w0=w0,\n",
    "        objective_function=objfun, prior=prior,\n",
    "        penalizer=None, penalizer_weight=0,\n",
    "        maxiters=maxiters, maxCG=100, optimizerState=None, quiet=quiet, cstepHessian=cstep)\n",
    "    return w"
   ]
  },
  {
   "cell_type": "code",
   "execution_count": 74,
   "metadata": {},
   "outputs": [
    {
     "data": {
      "text/plain": [
       "array([False, False,  True, False,  True,  True, False, False,  True,\n",
       "       False, False,  True, False, False, False,  True,  True])"
      ]
     },
     "execution_count": 74,
     "metadata": {},
     "output_type": "execute_result"
    },
    {
     "data": {
      "text/plain": [
       "array([ True, False,  True,  True, False, False,  True, False, False,\n",
       "        True, False, False, False])"
      ]
     },
     "execution_count": 74,
     "metadata": {},
     "output_type": "execute_result"
    },
    {
     "data": {
      "text/plain": [
       "array([False, False, False,  True, False, False,  True, False, False,\n",
       "        True,  True, False,  True])"
      ]
     },
     "execution_count": 74,
     "metadata": {},
     "output_type": "execute_result"
    },
    {
     "data": {
      "text/plain": [
       "array([ True,  True, False, False, False, False,  True, False, False,\n",
       "       False,  True, False,  True,  True,  True, False,  True,  True,\n",
       "        True, False,  True, False,  True,  True,  True])"
      ]
     },
     "execution_count": 74,
     "metadata": {},
     "output_type": "execute_result"
    },
    {
     "data": {
      "text/plain": [
       "array([ 0,  1,  2,  3,  4,  5,  6,  7,  8,  9, 10, 11, 12, 13, 14, 15, 16])"
      ]
     },
     "execution_count": 74,
     "metadata": {},
     "output_type": "execute_result"
    },
    {
     "data": {
      "text/plain": [
       "array([ 0,  1,  2,  3,  4,  5,  6,  7,  8,  9, 10, 11, 12])"
      ]
     },
     "execution_count": 74,
     "metadata": {},
     "output_type": "execute_result"
    },
    {
     "data": {
      "text/plain": [
       "array([ 0,  1,  2,  3,  4,  5,  6,  7,  8,  9, 10, 11, 12])"
      ]
     },
     "execution_count": 74,
     "metadata": {},
     "output_type": "execute_result"
    },
    {
     "data": {
      "text/plain": [
       "array([ 0,  1,  2,  3,  4,  5,  6,  7,  8,  9, 10, 11, 12, 13, 14, 15, 16,\n",
       "       17, 18, 19, 20, 21, 22, 23, 24])"
      ]
     },
     "execution_count": 74,
     "metadata": {},
     "output_type": "execute_result"
    },
    {
     "data": {
      "text/plain": [
       "array([ 0.05690021, -0.46189702])"
      ]
     },
     "execution_count": 74,
     "metadata": {},
     "output_type": "execute_result"
    },
    {
     "data": {
      "text/plain": [
       "array([-0.26721011,  1.48771909])"
      ]
     },
     "execution_count": 74,
     "metadata": {},
     "output_type": "execute_result"
    },
    {
     "data": {
      "text/plain": [
       "array([ 0.26720979, -1.71880035])"
      ]
     },
     "execution_count": 74,
     "metadata": {},
     "output_type": "execute_result"
    },
    {
     "data": {
      "text/plain": [
       "array([ 0.10852003, -1.26878114])"
      ]
     },
     "execution_count": 74,
     "metadata": {},
     "output_type": "execute_result"
    },
    {
     "name": "stderr",
     "output_type": "stream",
     "text": [
      "2019-10-02 12:25:49.031 INFO     TR 0 (initial state): obj = 1, Delta = 0.214662\n",
      "2019-10-02 12:25:49.033 INFO     CG 0: curv=0.641345, converged inside trust region; radius = 0.071849, residual=0.954157, model=0.0016554\n",
      "2019-10-02 12:25:49.034 INFO     TR 1: obj=0.998445; rho=0.939534\n",
      "2019-10-02 12:25:49.035 INFO     CG 0: curv=0.00793493, radius = 0.0154195, residual=9.24879, model=4.91948e-05\n",
      "2019-10-02 12:25:49.037 INFO     CG 1: curv=7.254191228292703e-05, terminate on trust region boundary, model=0.001078666639678597\n",
      "2019-10-02 12:25:49.039 INFO     expanding: Delta=0.429325\n",
      "2019-10-02 12:25:49.040 INFO     TR 2: obj=0.997364; rho=1.00168\n",
      "2019-10-02 12:25:49.042 INFO     CG 0: curv=0.00398734, radius = 0.00742055, residual=11.0734, model=3.71673e-05\n",
      "2019-10-02 12:25:49.044 INFO     CG 1: curv=7.33662E-05, converged inside trust region; radius = 0.822578, residual=1.25468e-13, model=0.00307438\n",
      "2019-10-02 12:25:49.045 INFO     TR 3: obj=0.994053; rho=1.07693\n",
      "2019-10-02 12:25:49.046 INFO     CG 0: curv=0.0012849, radius = 0.00127545, residual=2.30875, model=2.43516e-06\n",
      "2019-10-02 12:25:49.048 INFO     CG 1: curv=1.69987E-07, converged inside trust region; radius = 0.122059, residual=1.91072e-13, model=5.47334e-05\n",
      "2019-10-02 12:25:49.049 INFO     TR 4: obj=0.993998; rho=1.0132\n",
      "2019-10-02 12:25:49.051 INFO     CG 0: curv=3.79657e-07, radius = 2.25484e-05, residual=2.66549, model=7.46971e-10\n",
      "2019-10-02 12:25:49.053 INFO     CG 1: curv=6.67228E-11, converged inside trust region; radius = 0.00252051, residual=2.53004e-13, model=2.22021e-08\n",
      "2019-10-02 12:25:49.055 INFO     TR 5: obj=0.993998; rho=1.00027\n",
      "2019-10-02 12:25:49.057 INFO     CG 0: curv=6.51535e-14, radius = 9.32234e-09, residual=2.6383, model=1.27849e-16\n",
      "2019-10-02 12:25:49.058 INFO     CG 1: curv=1.11791E-17, converged inside trust region; radius = 1.03433e-06, residual=1.29672e-12, model=3.73802e-15\n",
      "2019-10-02 12:25:49.060 INFO     TR 6: converged with minimal model change\n",
      "2019-10-02 12:25:49.062 INFO     cxe = 0.993998, pen = 0\n",
      "2019-10-02 12:25:49.064 INFO     TR 0 (initial state): obj = 1, Delta = 0.574538\n",
      "2019-10-02 12:25:49.067 INFO     CG 0: curv=3.77027, radius = 0.0875518, residual=1.11709, model=0.0144501\n",
      "2019-10-02 12:25:49.068 INFO     CG 1: curv=0.00014108187127961883, terminate on trust region boundary, model=0.019731793580995\n",
      "2019-10-02 12:25:49.070 INFO     expanding: Delta=1.14908\n",
      "2019-10-02 12:25:49.070 INFO     TR 1: obj=0.978098; rho=1.10996\n",
      "2019-10-02 12:25:49.071 INFO     CG 0: curv=0.0947811, radius = 0.0207957, residual=5.44897, model=0.00156907\n",
      "2019-10-02 12:25:49.072 INFO     CG 1: curv=0.00019988024934686078, terminate on trust region boundary, model=0.018731460111749237\n",
      "2019-10-02 12:25:49.073 INFO     expanding: Delta=2.29815\n",
      "2019-10-02 12:25:49.075 INFO     TR 2: obj=0.959231; rho=1.00727\n",
      "2019-10-02 12:25:49.077 INFO     CG 0: curv=0.00050001, radius = 0.139764, residual=51.3084, model=0.00872958\n",
      "2019-10-02 12:25:49.078 INFO     CG 1: curv=0.0895767, converged inside trust region; radius = 0.688542, residual=1.02572e-14, model=0.0424994\n",
      "2019-10-02 12:25:49.080 INFO     TR 3: obj=0.936195; rho=0.542025\n",
      "2019-10-02 12:25:49.081 INFO     CG 0: curv=0.117322, radius = 0.0132759, residual=2.34498, model=0.00233356\n",
      "2019-10-02 12:25:49.082 INFO     CG 1: curv=0.000123428, converged inside trust region; radius = 0.170658, residual=1.33488e-14, model=0.0090408\n",
      "2019-10-02 12:25:49.084 INFO     TR 4: obj=0.926329; rho=1.09125\n",
      "2019-10-02 12:25:49.085 INFO     CG 0: curv=0.00122764, radius = 0.0016944, residual=3.17531, model=3.27983e-05\n",
      "2019-10-02 12:25:49.086 INFO     CG 1: curv=2.1731E-06, converged inside trust region; radius = 0.0327059, residual=5.21437e-14, model=0.000221158\n",
      "2019-10-02 12:25:49.087 INFO     TR 5: obj=0.926104; rho=1.01827\n",
      "2019-10-02 12:25:49.089 INFO     CG 0: curv=7.88679e-07, radius = 4.45913e-05, residual=3.4561, model=2.21535e-08\n",
      "2019-10-02 12:25:49.090 INFO     CG 1: curv=1.64053E-09, converged inside trust region; radius = 0.000951824, residual=3.24666e-14, model=1.74104e-07\n",
      "2019-10-02 12:25:49.092 INFO     TR 6: obj=0.926104; rho=1.00053\n",
      "2019-10-02 12:25:49.094 INFO     CG 0: curv=5.1394e-13, radius = 3.59276e-08, residual=3.43313, model=1.43996e-14\n",
      "2019-10-02 12:25:49.096 INFO     CG 1: curv=1.05051E-15, converged inside trust region; radius = 7.64399e-07, residual=1.42885e-14, model=1.12263e-13\n",
      "2019-10-02 12:25:49.097 INFO     TR 7: converged with minimal model change\n",
      "2019-10-02 12:25:49.098 INFO     cxe = 0.926104, pen = 0\n",
      "2019-10-02 12:25:49.101 INFO     TR 0 (initial state): obj = 1, Delta = 0.574538\n",
      "2019-10-02 12:25:49.102 INFO     CG 0: curv=2.06516, radius = 0.15984, residual=1.35137, model=0.026381\n",
      "2019-10-02 12:25:49.103 INFO     CG 1: curv=0.000376933831369008, terminate on trust region boundary, model=0.03526206422318996\n",
      "2019-10-02 12:25:49.104 INFO     TR 1: obj=0.973984; rho=0.737796\n",
      "2019-10-02 12:25:49.105 INFO     CG 0: curv=1.5277, radius = 0.0424128, residual=2.00576, model=0.00406821\n",
      "2019-10-02 12:25:49.107 INFO     CG 1: curv=0.0003274011588052434, terminate on trust region boundary, model=0.01374841409757129\n",
      "2019-10-02 12:25:49.108 INFO     expanding: Delta=1.14908\n",
      "2019-10-02 12:25:49.109 INFO     TR 2: obj=0.959945; rho=1.02115\n",
      "2019-10-02 12:25:49.110 INFO     CG 0: curv=0.00440719, radius = 0.039313, residual=27.8367, model=0.00131888\n",
      "2019-10-02 12:25:49.111 INFO     CG 1: curv=0.0142233, converged inside trust region; radius = 0.81429, residual=4.38239e-14, model=0.0258566\n",
      "2019-10-02 12:25:49.112 INFO     TR 3: obj=0.92961; rho=1.1732\n",
      "2019-10-02 12:25:49.113 INFO     CG 0: curv=0.0524632, radius = 0.00447357, residual=2.21677, model=0.000166058\n",
      "2019-10-02 12:25:49.114 INFO     CG 1: curv=7.0578E-06, converged inside trust region; radius = 0.372033, residual=5.21574e-13, model=0.00314682\n",
      "2019-10-02 12:25:49.115 INFO     TR 4: obj=0.926178; rho=1.0904\n",
      "2019-10-02 12:25:49.116 INFO     CG 0: curv=0.00103398, radius = 0.000633712, residual=2.09685, model=3.31229e-06\n",
      "2019-10-02 12:25:49.119 INFO     CG 1: curv=9.47734E-08, converged inside trust region; radius = 0.0652601, residual=3.55845e-13, model=7.31711e-05\n",
      "2019-10-02 12:25:49.120 INFO     TR 5: obj=0.926104; rho=1.01631\n",
      "2019-10-02 12:25:49.121 INFO     CG 0: curv=7.5153e-07, radius = 1.69279e-05, residual=1.88786, model=2.37804e-09\n",
      "2019-10-02 12:25:49.123 INFO     CG 1: curv=5.25264E-11, converged inside trust region; radius = 0.0016616, residual=2.39549e-13, model=4.55963e-08\n",
      "2019-10-02 12:25:49.124 INFO     TR 6: obj=0.926104; rho=1.00042\n",
      "2019-10-02 12:25:49.126 INFO     CG 0: curv=3.07705e-13, radius = 1.08151e-08, residual=1.85791, model=9.71675e-16\n",
      "2019-10-02 12:25:49.127 INFO     CG 1: curv=2.07607E-17, converged inside trust region; radius = 1.04764e-06, residual=5.39602e-13, model=1.81315e-14\n",
      "2019-10-02 12:25:49.128 INFO     TR 7: converged with minimal model change\n",
      "2019-10-02 12:25:49.129 INFO     cxe = 0.926104, pen = 0\n",
      "2019-10-02 12:25:49.131 INFO     TR 0 (initial state): obj = 1, Delta = 0.803549\n",
      "2019-10-02 12:25:49.132 INFO     CG 0: curv=14.627, converged inside trust region; radius = 0.0441439, residual=0.74136, model=0.0142517\n",
      "2019-10-02 12:25:49.134 INFO     TR 1: obj=0.9889; rho=0.778825\n",
      "2019-10-02 12:25:49.136 INFO     CG 0: curv=3.31016, radius = 0.00932441, residual=1.99994, model=0.00109253\n",
      "2019-10-02 12:25:49.137 INFO     CG 1: curv=0.00023174027781462515, terminate on trust region boundary, model=0.01578774660972492\n",
      "2019-10-02 12:25:49.138 INFO     expanding: Delta=1.6071\n",
      "2019-10-02 12:25:49.138 INFO     TR 2: obj=0.972805; rho=1.01946\n",
      "2019-10-02 12:25:49.140 INFO     CG 0: curv=0.00932648, radius = 0.00496907, residual=24.7162, model=0.000167996\n",
      "2019-10-02 12:25:49.141 INFO     CG 1: curv=0.00409758, converged inside trust region; radius = 0.459927, residual=3.34059e-13, model=0.0144378\n",
      "2019-10-02 12:25:49.142 INFO     TR 3: obj=0.956647; rho=1.11919\n",
      "2019-10-02 12:25:49.143 INFO     CG 0: curv=0.336151, converged inside trust region; radius = 0.0013209, residual=0.798762, model=9.48485e-05\n",
      "2019-10-02 12:25:49.144 INFO     TR 4: obj=0.956551; rho=1.01217\n",
      "2019-10-02 12:25:49.145 INFO     CG 0: curv=4.80234e-05, radius = 0.0048077, residual=64.2618, model=2.77606e-05\n",
      "2019-10-02 12:25:49.146 INFO     CG 1: curv=0.00326076, converged inside trust region; radius = 0.126955, residual=3.87007e-14, model=0.000724987\n",
      "2019-10-02 12:25:49.147 INFO     TR 5: obj=0.955798; rho=1.03761\n",
      "2019-10-02 12:25:49.149 INFO     CG 0: curv=0.00097721, converged inside trust region; radius = 7.3152e-05, residual=0.826601, model=2.85753e-07\n",
      "2019-10-02 12:25:49.151 INFO     TR 6: obj=0.955798; rho=1.00069\n",
      "2019-10-02 12:25:49.152 INFO     CG 0: curv=3.77981e-08, radius = 0.00106492, residual=123.64, model=3.4351e-07\n",
      "2019-10-02 12:25:49.153 INFO     CG 1: curv=0.000135182, converged inside trust region; radius = 0.00804303, residual=1.08068e-13, model=2.58807e-06\n",
      "2019-10-02 12:25:49.154 INFO     TR 7: obj=0.955796; rho=1.00247\n",
      "2019-10-02 12:25:49.156 INFO     CG 0: curv=1.34519E-08, converged inside trust region; radius = 2.71786e-07, residual=0.823787, model=3.94085e-12\n",
      "2019-10-02 12:25:49.157 INFO     TR 8: converged with minimal model change\n",
      "2019-10-02 12:25:49.158 INFO     cxe = 0.955796, pen = 0\n"
     ]
    },
    {
     "name": "stdout",
     "output_type": "stream",
     "text": [
      "[ 1.  1.  1.  1.  1.  1.  1. -1. -1. -1. -1. -1. -1. -1. -1. -1. -1.]\n",
      "[ 2  4  5  8 11 15 16  0  1  3  6  7  9 10 12 13 14]\n",
      "[0. 0.]\n",
      "[ 1.  1.  1.  1.  1. -1. -1. -1. -1. -1. -1. -1. -1.]\n",
      "[ 0  2  3  6  9  1  4  5  7  8 10 11 12]\n",
      "[0. 0.]\n",
      "[ 1.  1.  1.  1.  1. -1. -1. -1. -1. -1. -1. -1. -1.]\n",
      "[ 3  6  9 10 12  0  1  2  4  5  7  8 11]\n",
      "[0. 0.]\n",
      "[ 1.  1.  1.  1.  1.  1.  1.  1.  1.  1.  1.  1.  1.  1. -1. -1. -1. -1.\n",
      " -1. -1. -1. -1. -1. -1. -1.]\n",
      "[ 0  1  6 10 12 13 14 16 17 18 20 22 23 24  2  3  4  5  7  8  9 11 15 19\n",
      " 21]\n",
      "[0. 0.]\n"
     ]
    },
    {
     "data": {
      "text/plain": [
       "array([ 0.05690021, -0.46189702])"
      ]
     },
     "execution_count": 74,
     "metadata": {},
     "output_type": "execute_result"
    },
    {
     "data": {
      "text/plain": [
       "array([-0.26721011,  1.48771909])"
      ]
     },
     "execution_count": 74,
     "metadata": {},
     "output_type": "execute_result"
    },
    {
     "data": {
      "text/plain": [
       "array([ 0.26720979, -1.71880035])"
      ]
     },
     "execution_count": 74,
     "metadata": {},
     "output_type": "execute_result"
    },
    {
     "data": {
      "text/plain": [
       "array([ 0.10852003, -1.26878114])"
      ]
     },
     "execution_count": 74,
     "metadata": {},
     "output_type": "execute_result"
    }
   ],
   "source": [
    "s1 = numpy.arange(len(y1))\n",
    "s2 = numpy.arange(len(y2))\n",
    "s3 = numpy.arange(len(y3))\n",
    "s4 = numpy.arange(len(y4))\n",
    "y1\n",
    "y2\n",
    "y3\n",
    "y4\n",
    "s1\n",
    "s2\n",
    "s3\n",
    "s4\n",
    "\n",
    "w1_matlab = numpy.asarray([0.05690020923651800677, -0.46189701847839187421])\n",
    "w2_matlab = numpy.asarray([-0.26721010832405112101, 1.48771909454608608492])\n",
    "w3_matlab = numpy.asarray([0.26720978993204969054, -1.71880034947314586091])\n",
    "w4_matlab = numpy.asarray([0.10852002944173323729, -1.26878113586522633938])\n",
    "w1_matlab\n",
    "w2_matlab\n",
    "w3_matlab\n",
    "w4_matlab\n",
    "\n",
    "w1 = calibrate_get_w(y=y1, s=s1)\n",
    "w2 = calibrate_get_w(y=y2, s=s2)\n",
    "w3 = calibrate_get_w(y=y3, s=s3)\n",
    "w4 = calibrate_get_w(y=y4, s=s4)\n",
    "w1\n",
    "w2\n",
    "w3\n",
    "w4\n",
    "\n",
    "assert((numpy.abs(w1 - w1_matlab) < 1e-14).all())\n",
    "assert((numpy.abs(w2 - w2_matlab) < 1e-14).all())\n",
    "assert((numpy.abs(w3 - w3_matlab) < 1e-14).all())\n",
    "assert((numpy.abs(w4 - w4_matlab) < 1e-14).all())"
   ]
  },
  {
   "cell_type": "code",
   "execution_count": 76,
   "metadata": {},
   "outputs": [
    {
     "name": "stderr",
     "output_type": "stream",
     "text": [
      "2019-10-02 13:16:40.383 INFO     TR 0 (initial state): obj = 1, Delta = 0.214662\n",
      "2019-10-02 13:16:40.386 INFO     CG 0: curv=0.641345, converged inside trust region; radius = 0.071849, residual=0.954157, model=0.0016554\n",
      "2019-10-02 13:16:40.387 INFO     TR 1: obj=0.998445; rho=0.939534\n",
      "2019-10-02 13:16:40.389 INFO     CG 0: curv=0.00793493, radius = 0.0154195, residual=9.24879, model=4.91948e-05\n",
      "2019-10-02 13:16:40.391 INFO     CG 1: curv=7.254191228292701e-05, terminate on trust region boundary, model=0.001078666639678597\n",
      "2019-10-02 13:16:40.391 INFO     expanding: Delta=0.429325\n",
      "2019-10-02 13:16:40.392 INFO     TR 2: obj=0.997364; rho=1.00168\n",
      "2019-10-02 13:16:40.393 INFO     CG 0: curv=0.00398734, radius = 0.00742055, residual=11.0734, model=3.71673e-05\n",
      "2019-10-02 13:16:40.394 INFO     CG 1: curv=7.33662E-05, converged inside trust region; radius = 0.822578, residual=9.11407e-14, model=0.00307438\n",
      "2019-10-02 13:16:40.395 INFO     TR 3: obj=0.994053; rho=1.07693\n",
      "2019-10-02 13:16:40.396 INFO     CG 0: curv=0.0012849, radius = 0.00127545, residual=2.30875, model=2.43516e-06\n",
      "2019-10-02 13:16:40.397 INFO     CG 1: curv=1.69987E-07, converged inside trust region; radius = 0.122059, residual=2.08146e-14, model=5.47334e-05\n",
      "2019-10-02 13:16:40.397 INFO     TR 4: obj=0.993998; rho=1.0132\n",
      "2019-10-02 13:16:40.398 INFO     CG 0: curv=3.79657e-07, radius = 2.25484e-05, residual=2.66549, model=7.46971e-10\n",
      "2019-10-02 13:16:40.400 INFO     CG 1: curv=6.67228E-11, converged inside trust region; radius = 0.00252051, residual=2.17811e-13, model=2.22021e-08\n",
      "2019-10-02 13:16:40.401 INFO     TR 5: obj=0.993998; rho=1.00027\n",
      "2019-10-02 13:16:40.402 INFO     CG 0: curv=6.51535e-14, radius = 9.32234e-09, residual=2.6383, model=1.27849e-16\n",
      "2019-10-02 13:16:40.403 INFO     CG 1: curv=1.11791E-17, converged inside trust region; radius = 1.03433e-06, residual=5.0821e-13, model=3.73802e-15\n",
      "2019-10-02 13:16:40.404 INFO     TR 6: converged with minimal model change\n",
      "2019-10-02 13:16:40.405 INFO     cxe = 0.993998, pen = 0\n",
      "2019-10-02 13:16:40.407 INFO     TR 0 (initial state): obj = 1, Delta = 0.574538\n",
      "2019-10-02 13:16:40.409 INFO     CG 0: curv=3.77027, radius = 0.0875518, residual=1.11709, model=0.0144501\n",
      "2019-10-02 13:16:40.410 INFO     CG 1: curv=0.00014108187127961891, terminate on trust region boundary, model=0.01973179358099502\n",
      "2019-10-02 13:16:40.411 INFO     expanding: Delta=1.14908\n",
      "2019-10-02 13:16:40.411 INFO     TR 1: obj=0.978098; rho=1.10996\n",
      "2019-10-02 13:16:40.412 INFO     CG 0: curv=0.0947811, radius = 0.0207957, residual=5.44897, model=0.00156907\n",
      "2019-10-02 13:16:40.413 INFO     CG 1: curv=0.0001998802493468613, terminate on trust region boundary, model=0.018731460111749233\n",
      "2019-10-02 13:16:40.414 INFO     expanding: Delta=2.29815\n",
      "2019-10-02 13:16:40.415 INFO     TR 2: obj=0.959231; rho=1.00727\n",
      "2019-10-02 13:16:40.416 INFO     CG 0: curv=0.00050001, radius = 0.139764, residual=51.3084, model=0.00872958\n",
      "2019-10-02 13:16:40.417 INFO     CG 1: curv=0.0895767, converged inside trust region; radius = 0.688542, residual=1.03732e-13, model=0.0424994\n",
      "2019-10-02 13:16:40.418 INFO     TR 3: obj=0.936195; rho=0.542025\n",
      "2019-10-02 13:16:40.419 INFO     CG 0: curv=0.117322, radius = 0.0132759, residual=2.34498, model=0.00233356\n",
      "2019-10-02 13:16:40.421 INFO     CG 1: curv=0.000123428, converged inside trust region; radius = 0.170658, residual=4.40354e-14, model=0.0090408\n",
      "2019-10-02 13:16:40.423 INFO     TR 4: obj=0.926329; rho=1.09125\n",
      "2019-10-02 13:16:40.424 INFO     CG 0: curv=0.00122764, radius = 0.0016944, residual=3.17531, model=3.27983e-05\n",
      "2019-10-02 13:16:40.425 INFO     CG 1: curv=2.1731E-06, converged inside trust region; radius = 0.0327059, residual=6.34963e-14, model=0.000221158\n",
      "2019-10-02 13:16:40.426 INFO     TR 5: obj=0.926104; rho=1.01827\n",
      "2019-10-02 13:16:40.427 INFO     CG 0: curv=7.88679e-07, radius = 4.45913e-05, residual=3.4561, model=2.21535e-08\n",
      "2019-10-02 13:16:40.428 INFO     CG 1: curv=1.64053E-09, converged inside trust region; radius = 0.000951824, residual=1.64915e-14, model=1.74104e-07\n",
      "2019-10-02 13:16:40.429 INFO     TR 6: obj=0.926104; rho=1.00053\n",
      "2019-10-02 13:16:40.430 INFO     CG 0: curv=5.1394e-13, radius = 3.59276e-08, residual=3.43313, model=1.43996e-14\n",
      "2019-10-02 13:16:40.431 INFO     CG 1: curv=1.05051E-15, converged inside trust region; radius = 7.64399e-07, residual=6.7121e-14, model=1.12263e-13\n",
      "2019-10-02 13:16:40.432 INFO     TR 7: converged with minimal model change\n",
      "2019-10-02 13:16:40.433 INFO     cxe = 0.926104, pen = 0\n",
      "2019-10-02 13:16:40.436 INFO     TR 0 (initial state): obj = 1, Delta = 0.574538\n",
      "2019-10-02 13:16:40.438 INFO     CG 0: curv=2.06516, radius = 0.15984, residual=1.35137, model=0.026381\n",
      "2019-10-02 13:16:40.439 INFO     CG 1: curv=0.000376933831369008, terminate on trust region boundary, model=0.035262064223189976\n",
      "2019-10-02 13:16:40.440 INFO     TR 1: obj=0.973984; rho=0.737796\n",
      "2019-10-02 13:16:40.441 INFO     CG 0: curv=1.5277, radius = 0.0424128, residual=2.00576, model=0.00406821\n",
      "2019-10-02 13:16:40.443 INFO     CG 1: curv=0.0003274011588052436, terminate on trust region boundary, model=0.013748414097571262\n",
      "2019-10-02 13:16:40.444 INFO     expanding: Delta=1.14908\n",
      "2019-10-02 13:16:40.445 INFO     TR 2: obj=0.959945; rho=1.02115\n",
      "2019-10-02 13:16:40.446 INFO     CG 0: curv=0.00440719, radius = 0.039313, residual=27.8367, model=0.00131888\n",
      "2019-10-02 13:16:40.447 INFO     CG 1: curv=0.0142233, converged inside trust region; radius = 0.81429, residual=6.23511e-14, model=0.0258566\n",
      "2019-10-02 13:16:40.449 INFO     TR 3: obj=0.92961; rho=1.1732\n",
      "2019-10-02 13:16:40.452 INFO     CG 0: curv=0.0524632, radius = 0.00447357, residual=2.21677, model=0.000166058\n",
      "2019-10-02 13:16:40.453 INFO     CG 1: curv=7.0578E-06, converged inside trust region; radius = 0.372033, residual=5.23205e-13, model=0.00314682\n",
      "2019-10-02 13:16:40.455 INFO     TR 4: obj=0.926178; rho=1.0904\n",
      "2019-10-02 13:16:40.456 INFO     CG 0: curv=0.00103398, radius = 0.000633712, residual=2.09685, model=3.31229e-06\n",
      "2019-10-02 13:16:40.457 INFO     CG 1: curv=9.47734E-08, converged inside trust region; radius = 0.0652601, residual=3.60543e-13, model=7.31711e-05\n",
      "2019-10-02 13:16:40.458 INFO     TR 5: obj=0.926104; rho=1.01631\n",
      "2019-10-02 13:16:40.460 INFO     CG 0: curv=7.5153e-07, radius = 1.69279e-05, residual=1.88786, model=2.37804e-09\n",
      "2019-10-02 13:16:40.462 INFO     CG 1: curv=5.25264E-11, converged inside trust region; radius = 0.0016616, residual=2.99236e-13, model=4.55963e-08\n",
      "2019-10-02 13:16:40.463 INFO     TR 6: obj=0.926104; rho=1.00042\n",
      "2019-10-02 13:16:40.464 INFO     CG 0: curv=3.07705e-13, radius = 1.08151e-08, residual=1.85791, model=9.71675e-16\n",
      "2019-10-02 13:16:40.465 INFO     CG 1: curv=2.07607E-17, converged inside trust region; radius = 1.04764e-06, residual=5.3674e-13, model=1.81315e-14\n",
      "2019-10-02 13:16:40.466 INFO     TR 7: converged with minimal model change\n",
      "2019-10-02 13:16:40.467 INFO     cxe = 0.926104, pen = 0\n",
      "2019-10-02 13:16:40.470 INFO     TR 0 (initial state): obj = 1, Delta = 0.803549\n",
      "2019-10-02 13:16:40.471 INFO     CG 0: curv=14.627, converged inside trust region; radius = 0.0441439, residual=0.74136, model=0.0142517\n",
      "2019-10-02 13:16:40.472 INFO     TR 1: obj=0.9889; rho=0.778825\n",
      "2019-10-02 13:16:40.473 INFO     CG 0: curv=3.31016, radius = 0.00932441, residual=1.99994, model=0.00109253\n",
      "2019-10-02 13:16:40.475 INFO     CG 1: curv=0.00023174027781462528, terminate on trust region boundary, model=0.01578774660972492\n",
      "2019-10-02 13:16:40.476 INFO     expanding: Delta=1.6071\n",
      "2019-10-02 13:16:40.477 INFO     TR 2: obj=0.972805; rho=1.01946\n",
      "2019-10-02 13:16:40.478 INFO     CG 0: curv=0.00932648, radius = 0.00496907, residual=24.7162, model=0.000167996\n",
      "2019-10-02 13:16:40.479 INFO     CG 1: curv=0.00409758, converged inside trust region; radius = 0.459927, residual=1.25731e-13, model=0.0144378\n",
      "2019-10-02 13:16:40.480 INFO     TR 3: obj=0.956647; rho=1.11919\n",
      "2019-10-02 13:16:40.483 INFO     CG 0: curv=0.336151, converged inside trust region; radius = 0.0013209, residual=0.798762, model=9.48485e-05\n",
      "2019-10-02 13:16:40.484 INFO     TR 4: obj=0.956551; rho=1.01217\n",
      "2019-10-02 13:16:40.485 INFO     CG 0: curv=4.80234e-05, radius = 0.0048077, residual=64.2618, model=2.77606e-05\n",
      "2019-10-02 13:16:40.486 INFO     CG 1: curv=0.00326076, converged inside trust region; radius = 0.126955, residual=5.79506e-14, model=0.000724987\n",
      "2019-10-02 13:16:40.487 INFO     TR 5: obj=0.955798; rho=1.03761\n",
      "2019-10-02 13:16:40.487 INFO     CG 0: curv=0.00097721, converged inside trust region; radius = 7.3152e-05, residual=0.826601, model=2.85753e-07\n",
      "2019-10-02 13:16:40.488 INFO     TR 6: obj=0.955798; rho=1.00069\n",
      "2019-10-02 13:16:40.489 INFO     CG 0: curv=3.77981e-08, radius = 0.00106492, residual=123.64, model=3.4351e-07\n",
      "2019-10-02 13:16:40.492 INFO     CG 1: curv=0.000135182, converged inside trust region; radius = 0.00804303, residual=2.1775e-14, model=2.58807e-06\n",
      "2019-10-02 13:16:40.492 INFO     TR 7: obj=0.955796; rho=1.00247\n",
      "2019-10-02 13:16:40.493 INFO     CG 0: curv=1.34519E-08, converged inside trust region; radius = 2.71786e-07, residual=0.823787, model=3.94085e-12\n",
      "2019-10-02 13:16:40.494 INFO     TR 8: converged with minimal model change\n",
      "2019-10-02 13:16:40.494 INFO     cxe = 0.955796, pen = 0\n"
     ]
    },
    {
     "name": "stdout",
     "output_type": "stream",
     "text": [
      "[ 1.  1.  1.  1.  1.  1.  1. -1. -1. -1. -1. -1. -1. -1. -1. -1. -1.]\n",
      "[ 2  4  5  8 11 15 16  0  1  3  6  7  9 10 12 13 14]\n",
      "[0. 0.]\n",
      "[ 1.  1.  1.  1.  1. -1. -1. -1. -1. -1. -1. -1. -1.]\n",
      "[ 0  2  3  6  9  1  4  5  7  8 10 11 12]\n",
      "[0. 0.]\n",
      "[ 1.  1.  1.  1.  1. -1. -1. -1. -1. -1. -1. -1. -1.]\n",
      "[ 3  6  9 10 12  0  1  2  4  5  7  8 11]\n",
      "[0. 0.]\n",
      "[ 1.  1.  1.  1.  1.  1.  1.  1.  1.  1.  1.  1.  1.  1. -1. -1. -1. -1.\n",
      " -1. -1. -1. -1. -1. -1. -1.]\n",
      "[ 0  1  6 10 12 13 14 16 17 18 20 22 23 24  2  3  4  5  7  8  9 11 15 19\n",
      " 21]\n",
      "[0. 0.]\n"
     ]
    },
    {
     "data": {
      "text/plain": [
       "array([ 0.05690021, -0.46189702])"
      ]
     },
     "execution_count": 76,
     "metadata": {},
     "output_type": "execute_result"
    },
    {
     "data": {
      "text/plain": [
       "array([-0.26721011,  1.48771909])"
      ]
     },
     "execution_count": 76,
     "metadata": {},
     "output_type": "execute_result"
    },
    {
     "data": {
      "text/plain": [
       "array([ 0.26720979, -1.71880035])"
      ]
     },
     "execution_count": 76,
     "metadata": {},
     "output_type": "execute_result"
    },
    {
     "data": {
      "text/plain": [
       "array([ 0.10852003, -1.26878114])"
      ]
     },
     "execution_count": 76,
     "metadata": {},
     "output_type": "execute_result"
    }
   ],
   "source": [
    "w1c = calibrate_get_w(y=y1, s=s1, cstep=True)\n",
    "w2c = calibrate_get_w(y=y2, s=s2, cstep=True)\n",
    "w3c = calibrate_get_w(y=y3, s=s3, cstep=True)\n",
    "w4c = calibrate_get_w(y=y4, s=s4, cstep=True)\n",
    "w1c\n",
    "w2c\n",
    "w3c\n",
    "w4c\n",
    "\n",
    "assert((numpy.abs(w1c - w1_matlab) < 1e-14).all())\n",
    "assert((numpy.abs(w2c - w2_matlab) < 1e-14).all())\n",
    "assert((numpy.abs(w3c - w3_matlab) < 1e-14).all())\n",
    "assert((numpy.abs(w4c - w4_matlab) < 1e-14).all())"
   ]
  },
  {
   "cell_type": "code",
   "execution_count": 32,
   "metadata": {},
   "outputs": [
    {
     "name": "stderr",
     "output_type": "stream",
     "text": [
      "2019-10-02 12:01:42.798 INFO     CG 0: curv=294.805, radius = 0.0253862, residual=4.09537, model=0.0949948\n",
      "2019-10-02 12:01:42.799 INFO     CG 1: curv=9.07096, converged inside trust region; radius = 0.0746529, residual=0.537204, model=0.181842\n",
      "2019-10-02 12:01:42.800 INFO     TR 1: obj=0.778982; rho=1.21544\n",
      "2019-10-02 12:01:42.801 INFO     CG 0: curv=55.8271, radius = 0.018161, residual=3.53158, model=0.0349026\n",
      "2019-10-02 12:01:42.803 INFO     CG 1: curv=1.30004, converged inside trust region; radius = 0.0457992, residual=0.771534, model=0.0582168\n",
      "2019-10-02 12:01:42.804 INFO     TR 2: obj=0.70784; rho=1.22201\n",
      "2019-10-02 12:01:42.806 INFO     CG 0: curv=3.80428, radius = 0.0100918, residual=4.47283, model=0.00651286\n",
      "2019-10-02 12:01:42.807 INFO     CG 1: curv=0.128042, radius = 0.0347561, residual=2.18038, model=0.0142579\n",
      "2019-10-02 12:01:42.808 INFO     CG 2: curv=0.000523244, converged inside trust region; radius = 0.878535, residual=1.55973e-12, model=0.121278\n",
      "2019-10-02 12:01:42.810 INFO     TR 3: obj=0.614762; rho=0.767481\n",
      "2019-10-02 12:01:42.811 INFO     CG 0: curv=3.41819, radius = 0.0107472, residual=1.87595, model=0.00683462\n",
      "2019-10-02 12:01:42.812 INFO     CG 1: curv=0.0288331, converged inside trust region; radius = 0.0149217, residual=0.606528, model=0.00783809\n",
      "2019-10-02 12:01:42.813 INFO     TR 4: obj=0.606058; rho=1.11046\n",
      "2019-10-02 12:01:42.814 INFO     CG 0: curv=0.0598423, radius = 0.00263812, residual=4.23008, model=0.000272763\n",
      "2019-10-02 12:01:42.815 INFO     CG 1: curv=0.00084176, radius = 0.01662, residual=7.11601, model=0.000893634\n",
      "2019-10-02 12:01:42.819 INFO     CG 2: curv=0.000777504, converged inside trust region; radius = 0.166985, residual=1.93717e-14, model=0.00627678\n",
      "2019-10-02 12:01:42.820 INFO     TR 5: obj=0.599755; rho=1.00423\n",
      "2019-10-02 12:01:42.822 INFO     CG 0: curv=0.00250998, radius = 0.000649054, residual=5.13815, model=1.46102e-05\n",
      "2019-10-02 12:01:42.824 INFO     CG 1: curv=0.000298706, converged inside trust region; radius = 0.0012675, residual=0.0668656, model=2.3167e-05\n",
      "2019-10-02 12:01:42.825 INFO     TR 6: obj=0.599731; rho=1.00794\n",
      "2019-10-02 12:01:42.827 INFO     CG 0: curv=4.08063e-07, radius = 1.13877e-05, residual=7.57822, model=3.63536e-09\n",
      "2019-10-02 12:01:42.830 INFO     CG 1: curv=5.9895e-08, radius = 5.00733e-05, residual=7.4846, model=1.18041e-08\n",
      "2019-10-02 12:01:42.831 INFO     CG 2: curv=4.62221E-09, converged inside trust region; radius = 0.000710271, residual=4.42371e-13, model=1.12521e-07\n",
      "2019-10-02 12:01:42.832 INFO     TR 7: obj=0.599731; rho=1.00011\n",
      "2019-10-02 12:01:42.834 INFO     CG 0: curv=1.08713e-12, radius = 1.32854e-08, residual=4.95475, model=6.18943e-15\n",
      "2019-10-02 12:01:42.835 INFO     CG 1: curv=1.13124E-13, converged inside trust region; radius = 2.61025e-08, residual=0.398799, model=9.77423e-15\n",
      "2019-10-02 12:01:42.837 INFO     TR 8: converged with minimal model change\n",
      "2019-10-02 12:01:42.847 INFO     train Cxe = 0.5997311520221134, cllr: 0.5455785550262213, min: 0.4661858404441624\n",
      "2019-10-02 12:01:42.854 INFO     test Cxe = 0.5445667752739599, cllr: 0.48855221619915284, min: 0.4245028176048249\n"
     ]
    }
   ],
   "source": [
    "t.test_BOSARIS()"
   ]
  },
  {
   "cell_type": "code",
   "execution_count": 39,
   "metadata": {},
   "outputs": [
    {
     "data": {
      "text/plain": [
       "array([[ 1.25804382,  1.82411732],\n",
       "       [12.1705035 , -2.05549264]])"
      ]
     },
     "execution_count": 39,
     "metadata": {},
     "output_type": "execute_result"
    },
    {
     "data": {
      "text/plain": [
       "array([[  3.28779501,  -1.14984424,   2.94844011,   5.49636474,\n",
       "          6.28827087,   7.14643926,   6.33256484,  -2.95505459,\n",
       "          5.35914169,   5.22317764,  -4.09427745,   3.23632497,\n",
       "          4.41914892,   0.83789112,  -0.05449719,  -7.28755746,\n",
       "          4.1314822 ,   5.43869823,   5.89196217,   3.37532999,\n",
       "         -1.90837059,   5.31165879,  -5.95052757,  11.53115583,\n",
       "          0.10128646,   3.73599499,   7.33055603,  -2.41709382,\n",
       "         -3.2908347 ,   3.88997759,   1.97056769,  -0.03519455,\n",
       "         -5.1849186 ,   1.49012788,   2.58234145,   9.761849  ,\n",
       "          3.61400235,  -3.92210584,  -2.80749452,   2.37743249,\n",
       "          0.75603371,   2.26296673,  10.18853564,   2.69405877,\n",
       "          5.19567004,   5.9332144 ,   3.59386905,   1.10227409,\n",
       "         -4.22412526,  -3.28899975,  -4.51026334,   2.19087398,\n",
       "         -5.8731419 ,   4.19971667,  -0.96316377,  -2.53282506,\n",
       "         -3.08178661,   1.87840818,  -4.20467695,   2.34685496,\n",
       "          0.75065074,  -5.90427423,   7.16417966,   0.9890752 ,\n",
       "         -1.03152054,  -7.62544502,   1.06781742,   0.41232551,\n",
       "          0.29513507,  -0.56614859,   5.09797832,   3.27321385,\n",
       "          6.59301365, -10.16111494,   4.27826351,  -3.79477398,\n",
       "          8.26658796,   6.87649592,   5.66531284,  -1.12047468,\n",
       "          4.93488124,   1.01204728,   2.42288726,   4.77463254,\n",
       "         -1.90955869,   2.94230276,   0.33564488,  -7.10075934,\n",
       "          3.32530843,  -1.85629453,   9.20003788,  -0.65448681,\n",
       "        -11.97115577,  14.91570223,   7.51581135,   5.50441761,\n",
       "          3.58386651,  -7.19869314,   3.78462107,   2.03857877],\n",
       "       [  9.43169796,  12.9963112 ,  15.12923268,  13.29874803,\n",
       "         14.69457165,   5.52598236,   9.32769751,   8.77939761,\n",
       "          8.08010296,  13.97141633,  10.35460208,   6.16822512,\n",
       "         10.17208343,  17.56816584,  18.22410534,   8.5387303 ,\n",
       "         13.66357897,  13.70959272,   9.39699547,  13.33956284,\n",
       "          6.87288912,  12.28994516,  15.87225907,  18.29667623,\n",
       "         20.1325287 ,   6.2955016 ,  -0.81129099,   4.55492502,\n",
       "         12.08826569,  13.79581092,  11.32879466,   8.23176075,\n",
       "         12.05715012,  11.42554354,  11.00926373,  19.93637388,\n",
       "         10.23812019,  15.22796143,  25.3908821 ,  15.45220104,\n",
       "          8.37659204,  11.09609071,   9.75153927,  12.31580005,\n",
       "         13.73700192,  10.78142089,  16.04010827,  13.87456324,\n",
       "         15.09490895,   9.8652477 ,   7.07159286,  22.30451321,\n",
       "         14.29280925,  19.74379113,  17.58524654,  14.53508956,\n",
       "         20.20985733,  11.11291685,   4.22764113,   4.90314761,\n",
       "          9.43911636,  22.11275184,  15.51340073,  16.35974882,\n",
       "         13.76899265,  17.07399903,   4.14692113,  23.21227274,\n",
       "          9.39488001,   8.96974968,  12.72660171,  15.10006672,\n",
       "         11.17443922,  16.79346382,  18.7814457 ,   6.49864224,\n",
       "         21.43965292,  10.98238908,  11.27979345,  10.66845548,\n",
       "         13.23196675,   9.11429067,   8.84152041,  21.32942218,\n",
       "         19.33494032,  15.22971494,  13.39927666,  15.56005185,\n",
       "         10.44585896,  15.2096484 ,  14.04723877,   4.86925024,\n",
       "         10.90310481,   1.77005523,  12.55381718,   5.80419419,\n",
       "         11.53096411,  12.8475396 ,  18.95286493,  14.33753017]])"
      ]
     },
     "execution_count": 39,
     "metadata": {},
     "output_type": "execute_result"
    },
    {
     "data": {
      "text/plain": [
       "array([[-5.48424179e+00, -1.07741610e+00,  2.32604022e-01,\n",
       "         3.25142401e+00,  3.43016001e+00, -5.30591792e+00,\n",
       "         1.53093635e+00, -1.75594043e+00,  9.15591734e+00,\n",
       "         1.01232130e-01,  2.05046854e+00,  3.32884343e+00,\n",
       "         6.84832071e+00,  1.00281148e+01,  3.41419322e+00,\n",
       "         6.02572217e-01, -9.09823187e+00, -2.24256315e-01,\n",
       "        -3.62802159e+00,  9.20685808e-01,  4.16695050e+00,\n",
       "        -9.67242360e+00,  2.56630670e+00,  8.96855445e+00,\n",
       "         8.46051001e+00,  4.54249579e+00,  1.50006554e+01,\n",
       "        -7.68857070e-02, -6.26330826e-01, -1.18529571e+01,\n",
       "         3.01484542e+00,  1.37972923e+00, -4.53015841e+00,\n",
       "        -5.61569024e-01, -6.45712468e-03,  1.06888949e+01,\n",
       "         4.63510478e+00, -4.06303714e+00,  4.78944278e+00,\n",
       "         8.50700929e+00, -2.29034258e+00,  2.49100046e+00,\n",
       "         5.74033211e+00, -1.84230143e+00,  5.22529481e+00,\n",
       "         3.28247134e+00,  8.54642186e+00, -2.52485645e+00,\n",
       "        -3.14402854e+00, -2.23128745e+00,  8.97651765e+00,\n",
       "         8.13533683e+00,  6.81547561e+00,  3.54768331e+00,\n",
       "         1.16775896e+01, -9.10380565e+00,  1.32552942e+01,\n",
       "         3.05363080e+00, -5.28449409e+00,  8.84454571e-01,\n",
       "        -8.44307223e-01, -7.14333621e-01,  2.31310443e+00,\n",
       "         3.24098526e+00,  3.52605898e+00, -1.02805908e+00,\n",
       "        -4.37265780e+00, -2.47529961e+00, -3.78875638e+00,\n",
       "        -1.17213301e+00,  4.44679407e+00,  2.98308275e+00,\n",
       "         1.42463962e+01, -8.77799469e+00, -3.23007350e+00,\n",
       "        -2.73124317e+00, -7.70939850e+00,  7.47535796e+00,\n",
       "        -6.68291741e+00,  1.64296936e+01,  8.34503090e+00,\n",
       "         3.82131852e+00,  4.52568587e+00,  8.78826713e+00,\n",
       "         6.58922283e+00,  6.38615991e+00,  1.09373315e+01,\n",
       "         4.16981014e+00,  2.32171994e+00, -4.17690578e-01,\n",
       "         1.11451579e+01,  2.40010337e+00,  2.09467463e+00,\n",
       "         8.57241271e+00,  1.83155993e+00,  2.29294966e+00,\n",
       "         3.41154160e-01, -1.03414845e+00,  7.29813552e+00,\n",
       "         2.89732592e+00],\n",
       "       [ 8.71144085e+00, -9.73913429e-01,  1.48788250e+00,\n",
       "        -5.19612815e-02, -1.91488574e+00, -1.52003355e+00,\n",
       "         1.10688365e+01,  1.82579227e+00, -1.29189623e+00,\n",
       "        -1.82716853e+00, -4.28538069e+00, -5.69599328e+00,\n",
       "         2.24387072e+00, -1.35281394e+00, -1.39571833e+01,\n",
       "         1.36771023e+00, -4.94216809e+00, -2.33309647e+00,\n",
       "         1.35202156e+00,  3.99524934e+00, -9.28465428e+00,\n",
       "        -1.38183052e+00, -3.29752721e+00, -1.34574708e+00,\n",
       "        -7.01825114e+00, -1.10695017e+00, -1.66438093e+00,\n",
       "        -3.80115572e+00,  6.66845973e-01,  7.36637494e+00,\n",
       "        -9.28855779e+00,  1.41306724e+00,  5.51185575e-01,\n",
       "         8.87343129e-01, -1.97547000e-01, -2.58577343e+00,\n",
       "        -8.63582601e+00, -2.47192106e+00, -3.76342334e+00,\n",
       "        -4.96341573e+00, -8.42457008e-01,  9.63361053e+00,\n",
       "         1.97668056e+00, -2.40747356e+00, -4.20636604e+00,\n",
       "         2.83063826e+00,  5.49338675e+00, -6.03987691e+00,\n",
       "        -2.13953931e+00,  7.84548179e-01, -5.51363877e+00,\n",
       "        -7.85315860e+00, -6.65655242e+00,  5.55682653e+00,\n",
       "         9.97365620e+00, -4.79876934e+00, -2.24589057e+00,\n",
       "        -4.53151045e+00, -1.62182942e+00,  2.08049808e+00,\n",
       "        -1.17062031e-01,  5.99124996e-01, -1.47618430e+00,\n",
       "         2.12749641e+00, -5.22386785e+00, -2.91953019e-02,\n",
       "        -2.33923948e+00, -4.58841972e+00, -3.57227896e+00,\n",
       "        -4.79150541e+00, -3.88374248e+00, -4.76321261e+00,\n",
       "        -6.75982688e+00, -8.73416943e+00,  7.66021185e+00,\n",
       "        -9.68178209e+00, -3.27914386e+00,  3.13870924e+00,\n",
       "        -9.23792476e+00,  3.44339978e+00, -8.98490924e-01,\n",
       "         1.65945142e+00,  8.96979881e-01,  8.48966788e-01,\n",
       "        -3.95865939e+00, -4.49068506e+00, -1.30233369e+00,\n",
       "         2.33195596e+00,  2.07960690e+00,  4.27598310e+00,\n",
       "        -4.61827350e+00, -7.75611956e+00,  1.13815899e-01,\n",
       "        -4.95135405e+00, -1.65206230e+00,  4.77071084e+00,\n",
       "        -3.64126373e+00, -1.05166522e+01, -2.52687023e+00,\n",
       "         1.52831816e+00]])"
      ]
     },
     "execution_count": 39,
     "metadata": {},
     "output_type": "execute_result"
    }
   ],
   "source": [
    "# ----------------synthesize training data -------------------\n",
    "# randn('state',0);\n",
    "means = numpy.random.normal(loc=0, scale=1, size=no_of_systems * 2).reshape(no_of_systems, 2) * 8  # signal\n",
    "tar, non = make_data(N, means)\n",
    "means\n",
    "tar\n",
    "non"
   ]
  },
  {
   "cell_type": "code",
   "execution_count": 43,
   "metadata": {},
   "outputs": [
    {
     "data": {
      "text/plain": [
       "array([[ 3.28779501e+00, -1.14984424e+00,  2.94844011e+00,\n",
       "         5.49636474e+00,  6.28827087e+00,  7.14643926e+00,\n",
       "         6.33256484e+00, -2.95505459e+00,  5.35914169e+00,\n",
       "         5.22317764e+00, -4.09427745e+00,  3.23632497e+00,\n",
       "         4.41914892e+00,  8.37891123e-01, -5.44971938e-02,\n",
       "        -7.28755746e+00,  4.13148220e+00,  5.43869823e+00,\n",
       "         5.89196217e+00,  3.37532999e+00, -1.90837059e+00,\n",
       "         5.31165879e+00, -5.95052757e+00,  1.15311558e+01,\n",
       "         1.01286456e-01,  3.73599499e+00,  7.33055603e+00,\n",
       "        -2.41709382e+00, -3.29083470e+00,  3.88997759e+00,\n",
       "         1.97056769e+00, -3.51945504e-02, -5.18491860e+00,\n",
       "         1.49012788e+00,  2.58234145e+00,  9.76184900e+00,\n",
       "         3.61400235e+00, -3.92210584e+00, -2.80749452e+00,\n",
       "         2.37743249e+00,  7.56033708e-01,  2.26296673e+00,\n",
       "         1.01885356e+01,  2.69405877e+00,  5.19567004e+00,\n",
       "         5.93321440e+00,  3.59386905e+00,  1.10227409e+00,\n",
       "        -4.22412526e+00, -3.28899975e+00, -4.51026334e+00,\n",
       "         2.19087398e+00, -5.87314190e+00,  4.19971667e+00,\n",
       "        -9.63163774e-01, -2.53282506e+00, -3.08178661e+00,\n",
       "         1.87840818e+00, -4.20467695e+00,  2.34685496e+00,\n",
       "         7.50650744e-01, -5.90427423e+00,  7.16417966e+00,\n",
       "         9.89075201e-01, -1.03152054e+00, -7.62544502e+00,\n",
       "         1.06781742e+00,  4.12325515e-01,  2.95135073e-01,\n",
       "        -5.66148586e-01,  5.09797832e+00,  3.27321385e+00,\n",
       "         6.59301365e+00, -1.01611149e+01,  4.27826351e+00,\n",
       "        -3.79477398e+00,  8.26658796e+00,  6.87649592e+00,\n",
       "         5.66531284e+00, -1.12047468e+00,  4.93488124e+00,\n",
       "         1.01204728e+00,  2.42288726e+00,  4.77463254e+00,\n",
       "        -1.90955869e+00,  2.94230276e+00,  3.35644883e-01,\n",
       "        -7.10075934e+00,  3.32530843e+00, -1.85629453e+00,\n",
       "         9.20003788e+00, -6.54486813e-01, -1.19711558e+01,\n",
       "         1.49157022e+01,  7.51581135e+00,  5.50441761e+00,\n",
       "         3.58386651e+00, -7.19869314e+00,  3.78462107e+00,\n",
       "         2.03857877e+00, -5.48424179e+00, -1.07741610e+00,\n",
       "         2.32604022e-01,  3.25142401e+00,  3.43016001e+00,\n",
       "        -5.30591792e+00,  1.53093635e+00, -1.75594043e+00,\n",
       "         9.15591734e+00,  1.01232130e-01,  2.05046854e+00,\n",
       "         3.32884343e+00,  6.84832071e+00,  1.00281148e+01,\n",
       "         3.41419322e+00,  6.02572217e-01, -9.09823187e+00,\n",
       "        -2.24256315e-01, -3.62802159e+00,  9.20685808e-01,\n",
       "         4.16695050e+00, -9.67242360e+00,  2.56630670e+00,\n",
       "         8.96855445e+00,  8.46051001e+00,  4.54249579e+00,\n",
       "         1.50006554e+01, -7.68857070e-02, -6.26330826e-01,\n",
       "        -1.18529571e+01,  3.01484542e+00,  1.37972923e+00,\n",
       "        -4.53015841e+00, -5.61569024e-01, -6.45712468e-03,\n",
       "         1.06888949e+01,  4.63510478e+00, -4.06303714e+00,\n",
       "         4.78944278e+00,  8.50700929e+00, -2.29034258e+00,\n",
       "         2.49100046e+00,  5.74033211e+00, -1.84230143e+00,\n",
       "         5.22529481e+00,  3.28247134e+00,  8.54642186e+00,\n",
       "        -2.52485645e+00, -3.14402854e+00, -2.23128745e+00,\n",
       "         8.97651765e+00,  8.13533683e+00,  6.81547561e+00,\n",
       "         3.54768331e+00,  1.16775896e+01, -9.10380565e+00,\n",
       "         1.32552942e+01,  3.05363080e+00, -5.28449409e+00,\n",
       "         8.84454571e-01, -8.44307223e-01, -7.14333621e-01,\n",
       "         2.31310443e+00,  3.24098526e+00,  3.52605898e+00,\n",
       "        -1.02805908e+00, -4.37265780e+00, -2.47529961e+00,\n",
       "        -3.78875638e+00, -1.17213301e+00,  4.44679407e+00,\n",
       "         2.98308275e+00,  1.42463962e+01, -8.77799469e+00,\n",
       "        -3.23007350e+00, -2.73124317e+00, -7.70939850e+00,\n",
       "         7.47535796e+00, -6.68291741e+00,  1.64296936e+01,\n",
       "         8.34503090e+00,  3.82131852e+00,  4.52568587e+00,\n",
       "         8.78826713e+00,  6.58922283e+00,  6.38615991e+00,\n",
       "         1.09373315e+01,  4.16981014e+00,  2.32171994e+00,\n",
       "        -4.17690578e-01,  1.11451579e+01,  2.40010337e+00,\n",
       "         2.09467463e+00,  8.57241271e+00,  1.83155993e+00,\n",
       "         2.29294966e+00,  3.41154160e-01, -1.03414845e+00,\n",
       "         7.29813552e+00,  2.89732592e+00],\n",
       "       [ 9.43169796e+00,  1.29963112e+01,  1.51292327e+01,\n",
       "         1.32987480e+01,  1.46945717e+01,  5.52598236e+00,\n",
       "         9.32769751e+00,  8.77939761e+00,  8.08010296e+00,\n",
       "         1.39714163e+01,  1.03546021e+01,  6.16822512e+00,\n",
       "         1.01720834e+01,  1.75681658e+01,  1.82241053e+01,\n",
       "         8.53873030e+00,  1.36635790e+01,  1.37095927e+01,\n",
       "         9.39699547e+00,  1.33395628e+01,  6.87288912e+00,\n",
       "         1.22899452e+01,  1.58722591e+01,  1.82966762e+01,\n",
       "         2.01325287e+01,  6.29550160e+00, -8.11290994e-01,\n",
       "         4.55492502e+00,  1.20882657e+01,  1.37958109e+01,\n",
       "         1.13287947e+01,  8.23176075e+00,  1.20571501e+01,\n",
       "         1.14255435e+01,  1.10092637e+01,  1.99363739e+01,\n",
       "         1.02381202e+01,  1.52279614e+01,  2.53908821e+01,\n",
       "         1.54522010e+01,  8.37659204e+00,  1.10960907e+01,\n",
       "         9.75153927e+00,  1.23158001e+01,  1.37370019e+01,\n",
       "         1.07814209e+01,  1.60401083e+01,  1.38745632e+01,\n",
       "         1.50949089e+01,  9.86524770e+00,  7.07159286e+00,\n",
       "         2.23045132e+01,  1.42928093e+01,  1.97437911e+01,\n",
       "         1.75852465e+01,  1.45350896e+01,  2.02098573e+01,\n",
       "         1.11129168e+01,  4.22764113e+00,  4.90314761e+00,\n",
       "         9.43911636e+00,  2.21127518e+01,  1.55134007e+01,\n",
       "         1.63597488e+01,  1.37689926e+01,  1.70739990e+01,\n",
       "         4.14692113e+00,  2.32122727e+01,  9.39488001e+00,\n",
       "         8.96974968e+00,  1.27266017e+01,  1.51000667e+01,\n",
       "         1.11744392e+01,  1.67934638e+01,  1.87814457e+01,\n",
       "         6.49864224e+00,  2.14396529e+01,  1.09823891e+01,\n",
       "         1.12797934e+01,  1.06684555e+01,  1.32319668e+01,\n",
       "         9.11429067e+00,  8.84152041e+00,  2.13294222e+01,\n",
       "         1.93349403e+01,  1.52297149e+01,  1.33992767e+01,\n",
       "         1.55600518e+01,  1.04458590e+01,  1.52096484e+01,\n",
       "         1.40472388e+01,  4.86925024e+00,  1.09031048e+01,\n",
       "         1.77005523e+00,  1.25538172e+01,  5.80419419e+00,\n",
       "         1.15309641e+01,  1.28475396e+01,  1.89528649e+01,\n",
       "         1.43375302e+01,  8.71144085e+00, -9.73913429e-01,\n",
       "         1.48788250e+00, -5.19612815e-02, -1.91488574e+00,\n",
       "        -1.52003355e+00,  1.10688365e+01,  1.82579227e+00,\n",
       "        -1.29189623e+00, -1.82716853e+00, -4.28538069e+00,\n",
       "        -5.69599328e+00,  2.24387072e+00, -1.35281394e+00,\n",
       "        -1.39571833e+01,  1.36771023e+00, -4.94216809e+00,\n",
       "        -2.33309647e+00,  1.35202156e+00,  3.99524934e+00,\n",
       "        -9.28465428e+00, -1.38183052e+00, -3.29752721e+00,\n",
       "        -1.34574708e+00, -7.01825114e+00, -1.10695017e+00,\n",
       "        -1.66438093e+00, -3.80115572e+00,  6.66845973e-01,\n",
       "         7.36637494e+00, -9.28855779e+00,  1.41306724e+00,\n",
       "         5.51185575e-01,  8.87343129e-01, -1.97547000e-01,\n",
       "        -2.58577343e+00, -8.63582601e+00, -2.47192106e+00,\n",
       "        -3.76342334e+00, -4.96341573e+00, -8.42457008e-01,\n",
       "         9.63361053e+00,  1.97668056e+00, -2.40747356e+00,\n",
       "        -4.20636604e+00,  2.83063826e+00,  5.49338675e+00,\n",
       "        -6.03987691e+00, -2.13953931e+00,  7.84548179e-01,\n",
       "        -5.51363877e+00, -7.85315860e+00, -6.65655242e+00,\n",
       "         5.55682653e+00,  9.97365620e+00, -4.79876934e+00,\n",
       "        -2.24589057e+00, -4.53151045e+00, -1.62182942e+00,\n",
       "         2.08049808e+00, -1.17062031e-01,  5.99124996e-01,\n",
       "        -1.47618430e+00,  2.12749641e+00, -5.22386785e+00,\n",
       "        -2.91953019e-02, -2.33923948e+00, -4.58841972e+00,\n",
       "        -3.57227896e+00, -4.79150541e+00, -3.88374248e+00,\n",
       "        -4.76321261e+00, -6.75982688e+00, -8.73416943e+00,\n",
       "         7.66021185e+00, -9.68178209e+00, -3.27914386e+00,\n",
       "         3.13870924e+00, -9.23792476e+00,  3.44339978e+00,\n",
       "        -8.98490924e-01,  1.65945142e+00,  8.96979881e-01,\n",
       "         8.48966788e-01, -3.95865939e+00, -4.49068506e+00,\n",
       "        -1.30233369e+00,  2.33195596e+00,  2.07960690e+00,\n",
       "         4.27598310e+00, -4.61827350e+00, -7.75611956e+00,\n",
       "         1.13815899e-01, -4.95135405e+00, -1.65206230e+00,\n",
       "         4.77071084e+00, -3.64126373e+00, -1.05166522e+01,\n",
       "        -2.52687023e+00,  1.52831816e+00]])"
      ]
     },
     "execution_count": 43,
     "metadata": {},
     "output_type": "execute_result"
    },
    {
     "data": {
      "text/plain": [
       "<pybosaris.calibration.linear_fuser.LinearFuser at 0x11bdd97b8>"
      ]
     },
     "execution_count": 43,
     "metadata": {},
     "output_type": "execute_result"
    }
   ],
   "source": [
    "# ------------- create system ------------------------------\n",
    "train_scores = numpy.vstack((tar.T, non.T)).T\n",
    "fuser = LinearFuser(scores=train_scores)\n",
    "train_scores\n",
    "fuser"
   ]
  },
  {
   "cell_type": "code",
   "execution_count": 55,
   "metadata": {},
   "outputs": [
    {
     "data": {
      "text/plain": [
       "100"
      ]
     },
     "execution_count": 55,
     "metadata": {},
     "output_type": "execute_result"
    },
    {
     "data": {
      "text/plain": [
       "100"
      ]
     },
     "execution_count": 55,
     "metadata": {},
     "output_type": "execute_result"
    },
    {
     "data": {
      "text/plain": [
       "array([ 1.,  1.,  1.,  1.,  1.,  1.,  1.,  1.,  1.,  1.,  1.,  1.,  1.,\n",
       "        1.,  1.,  1.,  1.,  1.,  1.,  1.,  1.,  1.,  1.,  1.,  1.,  1.,\n",
       "        1.,  1.,  1.,  1.,  1.,  1.,  1.,  1.,  1.,  1.,  1.,  1.,  1.,\n",
       "        1.,  1.,  1.,  1.,  1.,  1.,  1.,  1.,  1.,  1.,  1.,  1.,  1.,\n",
       "        1.,  1.,  1.,  1.,  1.,  1.,  1.,  1.,  1.,  1.,  1.,  1.,  1.,\n",
       "        1.,  1.,  1.,  1.,  1.,  1.,  1.,  1.,  1.,  1.,  1.,  1.,  1.,\n",
       "        1.,  1.,  1.,  1.,  1.,  1.,  1.,  1.,  1.,  1.,  1.,  1.,  1.,\n",
       "        1.,  1.,  1.,  1.,  1.,  1.,  1.,  1.,  1., -1., -1., -1., -1.,\n",
       "       -1., -1., -1., -1., -1., -1., -1., -1., -1., -1., -1., -1., -1.,\n",
       "       -1., -1., -1., -1., -1., -1., -1., -1., -1., -1., -1., -1., -1.,\n",
       "       -1., -1., -1., -1., -1., -1., -1., -1., -1., -1., -1., -1., -1.,\n",
       "       -1., -1., -1., -1., -1., -1., -1., -1., -1., -1., -1., -1., -1.,\n",
       "       -1., -1., -1., -1., -1., -1., -1., -1., -1., -1., -1., -1., -1.,\n",
       "       -1., -1., -1., -1., -1., -1., -1., -1., -1., -1., -1., -1., -1.,\n",
       "       -1., -1., -1., -1., -1., -1., -1., -1., -1., -1., -1., -1., -1.,\n",
       "       -1., -1., -1., -1., -1.])"
      ]
     },
     "execution_count": 55,
     "metadata": {},
     "output_type": "execute_result"
    }
   ],
   "source": [
    "# ------------- train it ------------------------------\n",
    "ntar = tar.shape[1]\n",
    "nnon = non.shape[1]\n",
    "classf = numpy.hstack((numpy.ones(ntar), -numpy.ones(nnon)))\n",
    "ntar\n",
    "nnon\n",
    "classf"
   ]
  },
  {
   "cell_type": "code",
   "execution_count": 58,
   "metadata": {},
   "outputs": [
    {
     "name": "stderr",
     "output_type": "stream",
     "text": [
      "2019-10-02 12:16:31.491 INFO     TR 0 (initial state): obj = 1, Delta = 3.91301\n",
      "2019-10-02 12:16:31.497 INFO     CG 0: curv=167.778, converged inside trust region; radius = 0.0912617, residual=0.365931, model=0.698684\n",
      "2019-10-02 12:16:31.500 INFO     TR 1: obj=0.54961; rho=0.644626\n",
      "2019-10-02 12:16:31.504 INFO     CG 0: curv=10.4151, radius = 0.0351742, residual=2.06065, model=0.0775958\n",
      "2019-10-02 12:16:31.505 INFO     CG 1: curv=0.174176, radius = 0.0430942, residual=2.14578, model=0.0859621\n",
      "2019-10-02 12:16:31.507 INFO     CG 2: curv=0.0193479, converged inside trust region; radius = 0.294468, residual=1.00813e-14, model=0.174517\n",
      "2019-10-02 12:16:31.508 INFO     TR 2: obj=0.359971; rho=1.08665\n",
      "2019-10-02 12:16:31.510 INFO     CG 0: curv=0.476755, radius = 0.00718432, residual=4.27399, model=0.00333885\n",
      "2019-10-02 12:16:31.514 INFO     CG 1: curv=0.0436103, radius = 0.0115646, residual=3.24506, model=0.00455682\n",
      "2019-10-02 12:16:31.515 INFO     CG 2: curv=0.000658717, converged inside trust region; radius = 0.236676, residual=1.48324e-13, model=0.0313537\n",
      "2019-10-02 12:16:31.516 INFO     TR 3: obj=0.321399; rho=1.23024\n",
      "2019-10-02 12:16:31.518 INFO     CG 0: curv=0.0244002, radius = 0.00309228, residual=5.52669, model=0.00040286\n",
      "2019-10-02 12:16:31.520 INFO     CG 1: curv=0.00536288, radius = 0.00500439, residual=3.91917, model=0.000573867\n",
      "2019-10-02 12:16:31.523 INFO     CG 2: curv=3.3988E-05, converged inside trust region; radius = 0.174699, residual=7.51383e-14, model=0.00739727\n",
      "2019-10-02 12:16:31.524 INFO     TR 4: obj=0.3128; rho=1.1625\n",
      "2019-10-02 12:16:31.526 INFO     CG 0: curv=0.000777115, radius = 0.00110984, residual=5.36767, model=3.25706e-05\n",
      "2019-10-02 12:16:31.527 INFO     CG 1: curv=0.000275384, radius = 0.00145293, residual=4.36749, model=4.02005e-05\n",
      "2019-10-02 12:16:31.530 INFO     CG 2: curv=1.41573E-06, converged inside trust region; radius = 0.0698239, residual=2.05136e-13, model=0.000690717\n",
      "2019-10-02 12:16:31.531 INFO     TR 5: obj=0.312063; rho=1.0664\n",
      "2019-10-02 12:16:31.532 INFO     CG 0: curv=7.57824e-06, radius = 0.000143299, residual=3.17714, model=4.54115e-07\n",
      "2019-10-02 12:16:31.533 INFO     CG 1: curv=1.66053e-07, radius = 0.000296754, residual=10.6403, model=6.65287e-07\n",
      "2019-10-02 12:16:31.534 INFO     CG 2: curv=5.90689E-07, converged inside trust region; radius = 0.00834617, residual=1.41376e-13, model=8.133e-06\n",
      "2019-10-02 12:16:31.537 INFO     TR 6: obj=0.312055; rho=1.00819\n",
      "2019-10-02 12:16:31.540 INFO     CG 0: curv=1.35902e-09, radius = 1.89117e-06, residual=2.94135, model=7.98669e-11\n",
      "2019-10-02 12:16:31.542 INFO     CG 1: curv=3.53909e-11, radius = 3.05664e-06, residual=8.18621, model=1.02822e-10\n",
      "2019-10-02 12:16:31.543 INFO     CG 2: curv=4.24345E-11, converged inside trust region; radius = 0.000104302, residual=1.16355e-13, model=1.25152e-09\n",
      "2019-10-02 12:16:31.544 INFO     TR 7: converged with minimal model change\n",
      "2019-10-02 12:16:31.546 INFO     cxe = 0.312055, pen = 0\n"
     ]
    },
    {
     "data": {
      "text/plain": [
       "(array([ 1.08141794e-03,  5.45247904e-01, -3.05589178e+00]),\n",
       " 0.31205477904881385,\n",
       " 0,\n",
       " {'Delta': 3.9130113088358636,\n",
       "  'y': 0.31205477904881385,\n",
       "  'g': array([ 1.81476809e-19, -1.72794721e-19, -1.69406589e-20]),\n",
       "  'hess': functools.partial(<bound method ReplaceHessian.hessian of <pybosaris.calibration.objectives.ReplaceHessian object at 0x11c732dd8>>, dy=1, w=array([ 1.08141794e-03,  5.45247904e-01, -3.05589178e+00]))},\n",
       " True)"
      ]
     },
     "execution_count": 58,
     "metadata": {},
     "output_type": "execute_result"
    }
   ],
   "source": [
    "prior = 0.1\n",
    "maxiters = 50\n",
    "quiet = False\n",
    "objfun = None\n",
    "w0 = fuser.w\n",
    "w, train_cxe, w_pen, optimizerState, converged = train_binary_classifier(\n",
    "    classifier=fuser, classf=classf, w0=w0,\n",
    "    objective_function=objfun, prior=prior,\n",
    "    penalizer=None, penalizer_weight=0,\n",
    "    maxiters=maxiters, maxCG=100, optimizerState=None, quiet=quiet, cstepHessian=True)\n",
    "w, train_cxe, w_pen, optimizerState, converged"
   ]
  },
  {
   "cell_type": "code",
   "execution_count": 63,
   "metadata": {},
   "outputs": [
    {
     "name": "stderr",
     "output_type": "stream",
     "text": [
      "2019-10-02 12:18:25.995 INFO     train Cxe = 0.31205477904881385, cllr: 0.2637514171134443, min: 0.21584535551512118\n"
     ]
    },
    {
     "data": {
      "text/plain": [
       "<pybosaris.calibration.linear_fuser.LinearFuser at 0x11c6b29b0>"
      ]
     },
     "execution_count": 63,
     "metadata": {},
     "output_type": "execute_result"
    },
    {
     "data": {
      "text/plain": [
       "array([  2.09027724,   4.0290762 ,   5.19647912,   4.20116657,\n",
       "         4.96309286,  -0.0351332 ,   2.03686388,   1.72786071,\n",
       "         1.35556289,   4.56764213,   2.58550567,   0.31081986,\n",
       "         2.49519433,   6.52401993,   6.88070452,   1.59195212,\n",
       "         4.39861387,   4.42511641,   2.07417197,   4.22112704,\n",
       "         0.68947286,   3.65091918,   5.5919892 ,   6.93280258,\n",
       "         7.92143683,   0.38075744,  -3.4903191 ,  -0.57494235,\n",
       "         3.53165098,   4.4704519 ,   3.12324077,   1.43242045,\n",
       "         3.51263698,   3.17547334,   2.94967878,   7.82493092,\n",
       "         2.53033004,   5.24288083,  10.78539738,   5.37195944,\n",
       "         1.51224506,   2.99667563,   2.27213263,   3.66218578,\n",
       "         4.43979841,   2.82907164,   5.69383011,   4.51037676,\n",
       "         5.17000764,   2.31955706,   0.79500192,   9.10796654,\n",
       "         4.73088118,   7.71391059,   6.53138545,   4.86659629,\n",
       "         7.96015787,   3.00543418,  -0.75532633,  -0.37992289,\n",
       "         2.0915784 ,   8.99465482,   5.41050492,   5.86529657,\n",
       "         4.45050709,   6.2454241 ,  -0.79363697,   9.60099717,\n",
       "         2.06696602,   1.83423318,   3.88877417,   5.18092766,\n",
       "         3.04407758,   6.08972075,   7.18927871,   0.48337554,\n",
       "         8.64297367,   2.93966921,   3.10051852,   2.75984951,\n",
       "         4.16414702,   1.91475055,   1.76754884,   8.57909432,\n",
       "         7.48437887,   5.25126022,   4.2503987 ,   5.42051498,\n",
       "         2.64328697,   5.2351297 ,   4.6132848 ,  -0.40165107,\n",
       "         2.87605744,  -2.07464277,   3.79717845,   0.11478551,\n",
       "         3.23521789,   3.94141746,   7.28221085,   4.76382105,\n",
       "         1.68807233,  -3.58808118,  -2.24437542,  -3.08070741,\n",
       "        -4.09626978,  -3.8904248 ,   2.98102371,  -2.06228128,\n",
       "        -3.75039412,  -4.05204212,  -5.39026921,  -6.15802031,\n",
       "        -1.82502008,  -3.78266616, -10.66232457,  -2.30949901,\n",
       "        -5.76043757,  -4.32825026,  -2.32262827,  -0.87649481,\n",
       "        -8.11382385,  -3.81979191,  -4.85108633,  -3.7799588 ,\n",
       "        -6.87342916,  -3.6545417 ,  -3.94717002,  -5.12854712,\n",
       "        -2.69297274,   0.94779071,  -8.11719814,  -2.28392777,\n",
       "        -2.760258  ,  -2.57267709,  -3.16361085,  -4.45422016,\n",
       "        -7.75954533,  -4.4080954 ,  -5.10271108,  -5.75298417,\n",
       "        -3.51771652,   2.19950798,  -1.97190315,  -4.37055399,\n",
       "        -5.34375332,  -1.50894248,  -0.05139192,  -6.35185243,\n",
       "        -4.22587111,  -2.63053149,  -6.0524844 ,  -7.32901235,\n",
       "        -6.67799266,  -0.02220724,   2.39485171,  -5.68225572,\n",
       "        -4.2661244 ,  -5.52338611,  -3.94590562,  -1.9205481 ,\n",
       "        -3.12063266,  -2.72999263,  -3.85827674,  -1.89237397,\n",
       "        -5.90038163,  -3.07292222,  -4.33608588,  -5.56039485,\n",
       "        -5.00776663,  -5.66971763,  -5.16868539,  -5.64979751,\n",
       "        -6.72626691,  -7.82767204,   1.11732961,  -8.33781679,\n",
       "        -4.85217518,  -1.33643316,  -8.10007792,  -1.1606179 ,\n",
       "        -3.53676761,  -2.14694693,  -2.56192122,  -2.58349063,\n",
       "        -5.20721681,  -5.49752229,  -3.75415867,  -1.77988838,\n",
       "        -1.91947973,  -0.72487266,  -5.56194316,  -7.2823042 ,\n",
       "        -2.99156868,  -5.74633684,  -3.95469461,  -0.45219206,\n",
       "        -5.04091427,  -8.79119268,  -4.42577015,  -2.21944629])"
      ]
     },
     "execution_count": 63,
     "metadata": {},
     "output_type": "execute_result"
    },
    {
     "data": {
      "text/plain": [
       "0.2637514171134443"
      ]
     },
     "execution_count": 63,
     "metadata": {},
     "output_type": "execute_result"
    },
    {
     "data": {
      "text/plain": [
       "0.21584535551512118"
      ]
     },
     "execution_count": 63,
     "metadata": {},
     "output_type": "execute_result"
    }
   ],
   "source": [
    "train_fuser = LinearFuser(scores=train_scores, w=w)\n",
    "train_fused_scores = train_fuser.fusion()\n",
    "train_c = cllr(train_fused_scores[:ntar], train_fused_scores[ntar:])\n",
    "train_c_min = min_cllr(train_fused_scores[:ntar], train_fused_scores[ntar:])\n",
    "logging.info('train Cxe = {}, cllr: {}, min: {}'.format(train_cxe, train_c, train_c_min))\n",
    "train_fuser\n",
    "train_fused_scores\n",
    "train_c\n",
    "train_c_min"
   ]
  },
  {
   "cell_type": "code",
   "execution_count": null,
   "metadata": {},
   "outputs": [],
   "source": []
  }
 ],
 "metadata": {
  "kernelspec": {
   "display_name": "Python (nist-sre)",
   "language": "python",
   "name": "nist-sre"
  },
  "language_info": {
   "codemirror_mode": {
    "name": "ipython",
    "version": 3
   },
   "file_extension": ".py",
   "mimetype": "text/x-python",
   "name": "python",
   "nbconvert_exporter": "python",
   "pygments_lexer": "ipython3",
   "version": "3.7.3"
  }
 },
 "nbformat": 4,
 "nbformat_minor": 2
}
